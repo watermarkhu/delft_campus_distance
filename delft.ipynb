{
 "metadata": {
  "language_info": {
   "codemirror_mode": {
    "name": "ipython",
    "version": 3
   },
   "file_extension": ".py",
   "mimetype": "text/x-python",
   "name": "python",
   "nbconvert_exporter": "python",
   "pygments_lexer": "ipython3",
   "version": "3.8.2-final"
  },
  "orig_nbformat": 2,
  "kernelspec": {
   "name": "Python 3.8.2 64-bit ('maps')",
   "display_name": "Python 3.8.2 64-bit ('maps')",
   "metadata": {
    "interpreter": {
     "hash": "ee1d2160f593af953d7aaad9d5970ceba2b19eaeda99fcbaf10329c3847e2d8a"
    }
   }
  }
 },
 "nbformat": 4,
 "nbformat_minor": 2,
 "cells": [
  {
   "cell_type": "code",
   "execution_count": 1,
   "metadata": {},
   "outputs": [],
   "source": [
    "import gmaps\n",
    "from IPython.display import display\n",
    "import ipywidgets as widgets\n",
    "import googlemaps\n",
    "from collections import defaultdict as dd\n",
    "from datetime import datetime\n",
    "from progiter import ProgIter as prog\n",
    "import pandas as pd\n",
    "import numpy as np\n",
    "import matplotlib\n",
    "import matplotlib.path\n",
    "from ipywidgets.embed import embed_minimal_html\n",
    "\n",
    "with open(\"api_key\", \"r\") as file:\n",
    "    api_key = file.read()\n",
    "gmaps.configure(api_key=api_key)\n",
    "gmspy = googlemaps.Client(key=api_key)\n",
    "\n"
   ]
  },
  {
   "cell_type": "code",
   "execution_count": 2,
   "metadata": {},
   "outputs": [],
   "source": [
    "class Loc(object):\n",
    "    def __init__(self, name, short, lng=None, lat=None, color=(0,0,0), **kwargs):\n",
    "        self.name = name\n",
    "        self.short = short\n",
    "        self.color= color\n",
    "        \n",
    "        if lng and lat:\n",
    "            self.lng = lng\n",
    "            self.lat = lat\n",
    "        else:\n",
    "            self.find_lt()\n",
    "\n",
    "        self.directions = {}\n",
    "    \n",
    "    def __str__(self):\n",
    "        return self.name\n",
    "            \n",
    "    def find_lt(self):\n",
    "        self.loc = gmspy.geocode(self.name)[0]\n",
    "        print(\"{}: {}\".format(self.name, self.loc[\"formatted_address\"]))\n",
    "        self.lng = self.loc[\"geometry\"][\"location\"][\"lng\"]\n",
    "        self.lat = self.loc[\"geometry\"][\"location\"][\"lat\"]\n",
    "    \n",
    "    def get_lt(self):\n",
    "        return (self.lat, self.lng)\n",
    "\n",
    "class Faculty(Loc):\n",
    "    def __init__(self, *args, students=0, **kwargs):\n",
    "        self.students = students\n",
    "        self.color = \"rgba(50, 50, 50, 0.5)\"\n",
    "        self.closest = None\n",
    "        super().__init__(*args, **kwargs)\n",
    "\n",
    "def get_circle(loc, radius, **kwargs):\n",
    "    loc.plot = gmaps.Circle(\n",
    "        radius=radius,\n",
    "        center=(loc.lat, loc.lng),\n",
    "        **kwargs\n",
    "    )\n",
    "    return loc.plot\n",
    "\n",
    "def get_colored_circle(*args, color, fill_opacity=0.1, stroke_opacity=1, **kwargs):\n",
    "    return get_circle(\n",
    "        *args,\n",
    "        fill_color=color,\n",
    "        fill_opacity=fill_opacity,\n",
    "        stroke_color=color,\n",
    "        stroke_opacity=stroke_opacity\n",
    "    )\n",
    "\n",
    "\n",
    "def get_faculty_cicles(faculties, norm=20, **kwargs):\n",
    "    objs = []\n",
    "    for faculty in faculties.values():\n",
    "        radius = faculty.students/norm\n",
    "        if faculty.closest:\n",
    "            objs.append(get_colored_circle(faculty, radius, color=faculty.closest.color))\n",
    "        else:\n",
    "            objs.append(get_circle(faculty, radius))\n",
    "    return objs\n",
    "\n",
    "def map_style(fig):\n",
    "    with open(\"silver.json\", \"r\") as file:\n",
    "        style = file.read()\n",
    "    fig.styles = style\n",
    "        \n",
    "def add_layer(fig, features):\n",
    "    fig.add_layer(gmaps.drawing_layer(features=features, show_controls=False))\n",
    "        \n"
   ]
  },
  {
   "cell_type": "code",
   "execution_count": 3,
   "metadata": {
    "tags": []
   },
   "outputs": [
    {
     "output_type": "stream",
     "name": "stdout",
     "text": "Station Delft: Station Delft, 2611 AC Delft, Netherlands\nDelft Campus Station: Delft Campus, 2623 AX Delft, Netherlands\n"
    }
   ],
   "source": [
    "TU_coordinates = [\n",
    "    (51.986816, 4.376383),\n",
    "    (51.989374, 4.385949),\n",
    "    (51.994826, 4.382106),\n",
    "    (51.997765, 4.380045),\n",
    "    (52.003343, 4.376126),\n",
    "    (52.004744, 4.374916),\n",
    "    (52.006242, 4.372797),\n",
    "    (52.007045, 4.371525),\n",
    "    (52.007711, 4.371606),\n",
    "    (52.009137, 4.371519),\n",
    "    (52.008769, 4.368881),\n",
    "    (52.007560, 4.366079),\n",
    "    (52.006328, 4.367199),\n",
    "    (52.005263, 4.368880),\n",
    "    (52.003696, 4.367351),\n",
    "    (52.002253, 4.366597),\n",
    "    (52.002054, 4.366924),\n",
    "    (51.999733, 4.368465),\n",
    "    (51.995577, 4.370787),\n",
    "    (51.990907, 4.373798),\n",
    "    (51.989850, 4.374313),\n",
    "    (51.989296, 4.374803),\n",
    "]\n",
    "_stations = [\n",
    "    [\"SD\",   \"Station Delft\",           (239,71,111)],\n",
    "    [\"DC\",   \"Delft Campus Station\",    (6,214,160)]\n",
    "]\n",
    "stations = {short: Loc(name, short, color=color) for short, name, color in _stations}"
   ]
  },
  {
   "cell_type": "code",
   "execution_count": 4,
   "metadata": {},
   "outputs": [
    {
     "output_type": "display_data",
     "data": {
      "text/plain": "Figure(layout=FigureLayout(height='420px'))",
      "application/vnd.jupyter.widget-view+json": {
       "version_major": 2,
       "version_minor": 0,
       "model_id": "ebfbeb8d35934123a17ab9f5b0b0b6e9"
      }
     },
     "metadata": {}
    }
   ],
   "source": [
    "TU_polygons = [gmaps.Polygon(TU_coordinates, fill_color=(0,166,214), stroke_color=(0,166,214), fill_opacity=0.1)]\n",
    "NS_circles = [get_colored_circle(station, 50, color=station.color, fill_opacity=1) for station in stations.values()]\n",
    "\n",
    "fig = gmaps.figure(center=(51.998487, 4.374864), zoom_level=15)\n",
    "map_style(fig)\n",
    "add_layer(fig, TU_polygons)\n",
    "add_layer(fig, NS_circles)\n",
    "embed_minimal_html('export/base_map.html', views=[fig])\n",
    "fig\n"
   ]
  },
  {
   "cell_type": "code",
   "execution_count": 5,
   "metadata": {
    "tags": []
   },
   "outputs": [
    {
     "output_type": "stream",
     "name": "stdout",
     "text": "search region contains 1004 points.\n"
    }
   ],
   "source": [
    "# search_region = [\n",
    "#     (52.002590, 4.376638),\n",
    "#     (52.000151, 4.378239),\n",
    "#     (51.995654, 4.370645),\n",
    "#     (51.998691, 4.369007),\n",
    "# ]\n",
    "\n",
    "lats, lngs = list(map(list, zip(*TU_coordinates)))\n",
    "ypts, xpts = 60, 40\n",
    "y, x = np.meshgrid(np.linspace(min(lats), max(lats), ypts), np.linspace(min(lngs), max(lngs), xpts)) \n",
    "y, x = y.flatten(), x.flatten()\n",
    "points = np.vstack((y, x)).T \n",
    "\n",
    "p = matplotlib.path.Path(TU_coordinates)\n",
    "grid = p.contains_points(points)\n",
    "search_pts = [(round(lat, 6), round(lng, 6)) for lat, lng, in_region in zip(y, x, grid) if in_region]\n",
    "\n",
    "print(\"search region contains {} points.\".format(sum(grid)))\n"
   ]
  },
  {
   "cell_type": "code",
   "execution_count": 6,
   "metadata": {},
   "outputs": [
    {
     "output_type": "display_data",
     "data": {
      "text/plain": "Figure(layout=FigureLayout(height='420px'))",
      "application/vnd.jupyter.widget-view+json": {
       "version_major": 2,
       "version_minor": 0,
       "model_id": "57fb6bf8bb2349fbbc090f0170cd5d7e"
      }
     },
     "metadata": {}
    }
   ],
   "source": [
    "# search_polygon = [gmaps.Polygon(search_region, fill_color=(255, 209, 102), stroke_color=(255, 209, 102), fill_opacity=0.1)]\n",
    "search_symbols = gmaps.symbol_layer(search_pts, fill_color=(255, 209, 102), stroke_color=(255, 209, 102), scale=1)\n",
    "\n",
    "fig = gmaps.figure(center=(51.998487, 4.374864), zoom_level=15)\n",
    "map_style(fig)\n",
    "add_layer(fig, TU_polygons)\n",
    "add_layer(fig, NS_circles)\n",
    "# add_layer(fig, search_polygon)\n",
    "fig.add_layer(search_symbols)\n",
    "\n",
    "fig"
   ]
  },
  {
   "cell_type": "code",
   "execution_count": 7,
   "metadata": {
    "tags": []
   },
   "outputs": [
    {
     "output_type": "stream",
     "name": "stdout",
     "text": " 2400/?... rate=15.99 Hz, total=0:02:30, wall=15:55 CET\n"
    }
   ],
   "source": [
    "pt_closest = []\n",
    "pt_array = []\n",
    "for lat, lng, in_region in prog(zip(y, x, grid)):\n",
    "    if in_region:\n",
    "        times = dd(int)\n",
    "        for station in stations.values():\n",
    "            directions = gmspy.directions((lat, lng), (station.lat, station.lng), mode=\"bicycling\", departure_time=datetime.now())\n",
    "            times[station.short] = sum(leg[\"duration\"][\"value\"] for leg in directions[0][\"legs\"])\n",
    "        short = min(times, key=times.get)\n",
    "        pt_closest.append(short)\n",
    "        pt_array.append(short)\n",
    "    else:\n",
    "        pt_array.append(None)\n"
   ]
  },
  {
   "cell_type": "code",
   "execution_count": 8,
   "metadata": {
    "tags": []
   },
   "outputs": [
    {
     "output_type": "stream",
     "name": "stdout",
     "text": "The winner is Delft Campus Station covering 65% of the TU Delft campus area.\n"
    }
   ],
   "source": [
    "sd_locs = [pt for pt, station in zip(search_pts, pt_closest) if station == \"SD\"]\n",
    "dc_locs = [pt for pt, station in zip(search_pts, pt_closest) if station == \"DC\"]\n",
    "\n",
    "if len(sd_locs) > len(dc_locs):\n",
    "    name = stations[\"SD\"].name\n",
    "    per = round(len(sd_locs)/len(search_pts)*100)\n",
    "else:\n",
    "    name = stations[\"DC\"].name\n",
    "    per = round(len(dc_locs)/len(search_pts)*100)\n",
    "\n",
    "print(\"The winner is {} covering {}% of the TU Delft campus area.\".format(name, per))"
   ]
  },
  {
   "cell_type": "code",
   "execution_count": 9,
   "metadata": {},
   "outputs": [
    {
     "output_type": "display_data",
     "data": {
      "text/plain": "Figure(layout=FigureLayout(height='420px'))",
      "application/vnd.jupyter.widget-view+json": {
       "version_major": 2,
       "version_minor": 0,
       "model_id": "d6c51dbd63254bdfb8a7669b8be89bdb"
      }
     },
     "metadata": {}
    }
   ],
   "source": [
    "\n",
    "sd_symbols = gmaps.symbol_layer(sd_locs, fill_color=stations[\"SD\"].color, stroke_color=stations[\"SD\"].color, scale=1)\n",
    "dc_symbols = gmaps.symbol_layer(dc_locs, fill_color=stations[\"DC\"].color, stroke_color=stations[\"DC\"].color, scale=1)\n",
    "\n",
    "fig = gmaps.figure(center=(51.998487, 4.374864), zoom_level=15)\n",
    "map_style(fig)\n",
    "add_layer(fig, TU_polygons)\n",
    "add_layer(fig, NS_circles)\n",
    "# add_layer(fig, search_polygon)\n",
    "fig.add_layer(sd_symbols)\n",
    "fig.add_layer(dc_symbols)\n",
    "\n",
    "fig"
   ]
  },
  {
   "source": [
    "## Faculties\n"
   ],
   "cell_type": "markdown",
   "metadata": {}
  },
  {
   "cell_type": "code",
   "execution_count": 10,
   "metadata": {
    "tags": []
   },
   "outputs": [
    {
     "output_type": "stream",
     "name": "stdout",
     "text": "TU Delft Faculty of Applied Sciences: Lorentzweg 1, 2628 CJ Delft, Netherlands\nTU Delft Faculty Electrical Engineering, Mathematics and Computer Science: Mekelweg 4, 2628 CD Delft, Netherlands\nTU Delft Faculty Of Civil Engineering and Geosciences: Faculteit Civiele Techniek en Geowetenschappen (CITG), Stevinweg 1, 2628 CN Delft, Netherlands\nTU Delft Faculty of Aerospace Engineering: Kluyverweg 1, 2629 HS Delft, Netherlands\nTU Delft TNW Applied Sciences: Van der Maasweg 9, 2629 HZ Delft, Netherlands\nTU Delft Faculty of Mechanical, Maritime and Materials Engineering: Mekelweg 2, 2628 CD Delft, Netherlands\nTU Delft Faculty of Industrial Design Engineering: Landbergstraat 15, 2628 CE Delft, Netherlands\nInholland Delft: Rotterdamseweg 141, 2628 AL Delft, Netherlands\nDe Haagse Hoogeschool (vesting Delft): Rotterdamseweg 137, 2628 AL Delft, Netherlands\nTU Delft Faculty of Architecture: Julianalaan 134, 2628 BL Delft, Netherlands\nTU Delft Faculty of Technology, Policy and Management: Jaffalaan 5, 2628 BX Delft, Netherlands\n"
    }
   ],
   "source": [
    "_faculties = [\n",
    "    [\"AS\",      1186,   \"TU Delft Faculty of Applied Sciences\"],\n",
    "    [\"EEMCS\",   4024,   \"TU Delft Faculty Electrical Engineering, Mathematics and Computer Science\"],\n",
    "    [\"CEG\",     3644,   \"TU Delft Faculty Of Civil Engineering and Geosciences\"],\n",
    "    [\"AE\",      2642,   \"TU Delft Faculty of Aerospace Engineering\"],\n",
    "    [\"ASN\",     1958,   \"TU Delft TNW Applied Sciences\"],\n",
    "    [\"3ME\",     4866,   \"TU Delft Faculty of Mechanical, Maritime and Materials Engineering\"],\n",
    "    [\"IDE\",     1964,   \"TU Delft Faculty of Industrial Design Engineering\"],\n",
    "    [\"IH\",      1236,   \"Inholland Delft\"],\n",
    "    [\"HH\",      2658,   \"De Haagse Hoogeschool (vesting Delft)\"],\n",
    "    [\"BK\",      2806,   \"TU Delft Faculty of Architecture\"],\n",
    "    [\"TPM\",     1613,   \"TU Delft Faculty of Technology, Policy and Management\"]\n",
    "]\n",
    "faculties = {short: Faculty(name, short, students=students) for short, students, name in _faculties}"
   ]
  },
  {
   "cell_type": "code",
   "execution_count": 12,
   "metadata": {
    "tags": []
   },
   "outputs": [
    {
     "output_type": "display_data",
     "data": {
      "text/plain": "Figure(layout=FigureLayout(height='420px'))",
      "application/vnd.jupyter.widget-view+json": {
       "version_major": 2,
       "version_minor": 0,
       "model_id": "d0661ed7124f4e0ba88be018a1933b48"
      }
     },
     "metadata": {}
    }
   ],
   "source": [
    "fig = gmaps.figure(center=(51.998487, 4.374864), zoom_level=15)\n",
    "map_style(fig)\n",
    "add_layer(fig, TU_polygons)\n",
    "add_layer(fig, NS_circles)\n",
    "add_layer(fig, get_faculty_cicles(faculties))\n",
    "fig"
   ]
  },
  {
   "cell_type": "code",
   "execution_count": 13,
   "metadata": {
    "tags": []
   },
   "outputs": [
    {
     "output_type": "stream",
     "name": "stdout",
     "text": "TU Delft Faculty of Applied Sciences is closest to Delft Campus Station\nTU Delft Faculty Electrical Engineering, Mathematics and Computer Science is closest to Delft Campus Station\nTU Delft Faculty Of Civil Engineering and Geosciences is closest to Delft Campus Station\nTU Delft Faculty of Aerospace Engineering is closest to Delft Campus Station\nTU Delft TNW Applied Sciences is closest to Delft Campus Station\nTU Delft Faculty of Mechanical, Maritime and Materials Engineering is closest to Station Delft\nTU Delft Faculty of Industrial Design Engineering is closest to Station Delft\nInholland Delft is closest to Station Delft\nDe Haagse Hoogeschool (vesting Delft) is closest to Station Delft\nTU Delft Faculty of Architecture is closest to Station Delft\nTU Delft Faculty of Technology, Policy and Management is closest to Station Delft\n"
    }
   ],
   "source": [
    "station_students = dd(int)\n",
    "for faculty in faculties.values():\n",
    "    times = dd(int)\n",
    "    for station in stations.values():\n",
    "        directions = gmspy.directions(faculty.name, station.name, mode=\"bicycling\", departure_time=datetime.now())\n",
    "        faculty.directions[station.short] = directions\n",
    "        times[station.short] = sum(leg[\"duration\"][\"value\"] for leg in directions[0][\"legs\"])\n",
    "    closest = min(times, key=times.get)\n",
    "    faculty.closest = stations[closest]\n",
    "    print(\"{} is closest to {}\".format(faculty.name, stations[closest].name))\n",
    "    station_students[closest] += faculty.students\n"
   ]
  },
  {
   "cell_type": "code",
   "execution_count": 14,
   "metadata": {
    "tags": []
   },
   "outputs": [
    {
     "output_type": "stream",
     "name": "stdout",
     "text": "The winner is Station Delft with 15143 students over 13454\n"
    }
   ],
   "source": [
    "winner = max(station_students, key=station_students.get)\n",
    "loser = min(station_students, key=station_students.get)\n",
    "print(\"The winner is {} with {} students over {}\".format(stations[winner], station_students[winner], station_students[loser]))"
   ]
  },
  {
   "cell_type": "code",
   "execution_count": 15,
   "metadata": {},
   "outputs": [
    {
     "output_type": "display_data",
     "data": {
      "text/plain": "Figure(layout=FigureLayout(height='420px'))",
      "application/vnd.jupyter.widget-view+json": {
       "version_major": 2,
       "version_minor": 0,
       "model_id": "1d020b67785e4a6faf600af9cb40b2c6"
      }
     },
     "metadata": {}
    }
   ],
   "source": [
    "fig2 = gmaps.figure(center=(51.998487, 4.374864), zoom_level=15)\n",
    "map_style(fig2)\n",
    "add_layer(fig2, TU_polygons)\n",
    "add_layer(fig2, NS_circles)\n",
    "add_layer(fig2, get_faculty_cicles(faculties))\n",
    "fig2\n"
   ]
  },
  {
   "cell_type": "code",
   "execution_count": null,
   "metadata": {},
   "outputs": [],
   "source": []
  }
 ]
}