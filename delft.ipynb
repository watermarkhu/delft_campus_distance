{
 "metadata": {
  "language_info": {
   "codemirror_mode": {
    "name": "ipython",
    "version": 3
   },
   "file_extension": ".py",
   "mimetype": "text/x-python",
   "name": "python",
   "nbconvert_exporter": "python",
   "pygments_lexer": "ipython3",
   "version": "3.8.5-final"
  },
  "orig_nbformat": 2,
  "kernelspec": {
   "name": "Python 3.8.5 64-bit ('maps')",
   "display_name": "Python 3.8.5 64-bit ('maps')",
   "metadata": {
    "interpreter": {
     "hash": "ee1d2160f593af953d7aaad9d5970ceba2b19eaeda99fcbaf10329c3847e2d8a"
    }
   }
  }
 },
 "nbformat": 4,
 "nbformat_minor": 2,
 "cells": [
  {
   "cell_type": "code",
   "execution_count": 3,
   "metadata": {},
   "outputs": [],
   "source": [
    "\n",
    "import googlemaps\n",
    "from collections import defaultdict as dd\n",
    "from datetime import datetime\n",
    "from progiter import ProgIter as prog\n",
    "import pandas as pd\n",
    "import numpy as np\n",
    "import matplotlib\n",
    "import matplotlib.path\n",
    "import geojson\n",
    "\n",
    "with open(\"api_key\", \"r\") as file:\n",
    "    api_key = file.read()\n",
    "gmspy = googlemaps.Client(key=api_key)\n",
    "\n",
    "\n",
    "class Loc(object):\n",
    "    def __init__(self, name, short, lng=None, lat=None, color=(0,0,0), **kwargs):\n",
    "        self.name = name\n",
    "        self.short = short\n",
    "        self.color= color\n",
    "        \n",
    "        if lng and lat:\n",
    "            self.lng = lng\n",
    "            self.lat = lat\n",
    "        else:\n",
    "            self.find_lt()\n",
    "\n",
    "        self.directions = {}\n",
    "    \n",
    "    def __str__(self):\n",
    "        return self.name\n",
    "            \n",
    "    def find_lt(self):\n",
    "        self.loc = gmspy.geocode(self.name)[0]\n",
    "        print(\"{}: {}\".format(self.name, self.loc[\"formatted_address\"]))\n",
    "        self.lng = self.loc[\"geometry\"][\"location\"][\"lng\"]\n",
    "        self.lat = self.loc[\"geometry\"][\"location\"][\"lat\"]\n",
    "    \n",
    "    def get_lt(self):\n",
    "        return (self.lat, self.lng)\n",
    "\n",
    "class Faculty(Loc):\n",
    "    def __init__(self, *args, students=0, **kwargs):\n",
    "        self.students = students\n",
    "        self.color = \"rgba(50, 50, 50, 0.5)\"\n",
    "        self.closest = None\n",
    "        super().__init__(*args, **kwargs)"
   ]
  },
  {
   "source": [
    "## Define campus area\n",
    "\n",
    "The campus area from the [TU Delft interactive map](https://iamap.tudelft.nl/), which consists of 3 blocks; the Science Center and the Botanical garden in the North, the main Mekelpark area including all of X Delft, and the block on the other side of Kruithuisweg. The ground area of the Haagse Hogeschool and InHolland are added. While they are no part of TU Delft, they are definitely a part of the Delft campus."
   ],
   "cell_type": "markdown",
   "metadata": {}
  },
  {
   "cell_type": "code",
   "execution_count": 6,
   "metadata": {
    "tags": []
   },
   "outputs": [
    {
     "output_type": "stream",
     "name": "stdout",
     "text": [
      "Station Delft: Station Delft, 2611 AC Delft, Netherlands\n",
      "Delft Campus Station: Delft Campus, 2623 AX Delft, Netherlands\n"
     ]
    }
   ],
   "source": [
    "TU_coordinates = [\n",
    "    [\n",
    "        (52.009215808679734, 4.3714610472668225),\n",
    "        (52.009179486824024, 4.371203555201393),\n",
    "        (52.00925213050599, 4.371053351496559),\n",
    "        (52.00925213050599, 4.3701628581036145),\n",
    "        (52.00904080310374, 4.369792713259559),\n",
    "        (52.0091988974032, 4.369306339837382),\n",
    "        (52.0087894491679, 4.368914737321208),\n",
    "        (52.00861151594429, 4.368878602981567),\n",
    "        (52.00774233917588, 4.369692577935527),\n",
    "        (52.00719749030511, 4.3679491420758465),\n",
    "        (52.00657998689915, 4.368485169186185),\n",
    "        (52.00738240945336, 4.371430234684537),\n",
    "        (52.00793610492009, 4.371559131452316),\n",
    "    ],\n",
    "    [\n",
    "        (52.00692702678496, 4.371373836019519),\n",
    "        (52.00524405881064, 4.369110266272638),\n",
    "        (52.00508923149173, 4.368884960715387),\n",
    "        (52.00360586726592, 4.367422450397216),\n",
    "        (52.00328883579353, 4.368143964622222),\n",
    "        (52.00246411937603, 4.368777146099552),\n",
    "        (52.002044337192906, 4.36716677342786),\n",
    "        (52.00093068281958, 4.367833591203016),\n",
    "        (52.00119877409238, 4.36886087725572),\n",
    "        (52.000673705375846, 4.369232378168113),\n",
    "        (52.00036986368986, 4.368129990262992),\n",
    "        (51.99765359355825, 4.369554127571034),\n",
    "        (51.99778900973732, 4.370627011176991),\n",
    "        (51.99592617562839, 4.371925200340199),\n",
    "        (51.995618400031745, 4.370832099597717),\n",
    "        (51.994161758285166, 4.3717869660070185),\n",
    "        (51.99424763870505, 4.372178568523193),\n",
    "        (51.99388760045785, 4.372468247096801),\n",
    "        (51.99375217247797, 4.372044458072448),\n",
    "        (51.99332606713748, 4.372301950137878),\n",
    "        (51.99389420669031, 4.374479903857971),\n",
    "        (51.99375259082111, 4.375833120098553),\n",
    "        (51.99420181376148, 4.37790914987608),\n",
    "        (51.994277784842595, 4.3786011598019225),\n",
    "        (51.99506721583868, 4.381379928341351),\n",
    "        (51.99757978141475, 4.379782073868097),\n",
    "        (52.00070771102691, 4.37747864407855),\n",
    "        (52.0032872142177, 4.376173567365091),\n",
    "        (52.00231629132921, 4.372128796170633),\n",
    "        (52.00458834996182, 4.3704658265814),\n",
    "        (52.00628241164349, 4.372681331227701),\n",
    "    ],\n",
    "    [\n",
    "        (51.99291817085045, 4.383368104557852),\n",
    "        (51.98936680416617, 4.385850000404372),\n",
    "        (51.98798148495472, 4.3807143812327265),\n",
    "        (51.988873435154964, 4.380102837577331),\n",
    "        (51.98829862483901, 4.377881968513),\n",
    "        (51.98864879751895, 4.377586925521362),\n",
    "        (51.98831844600721, 4.3762941007761835),\n",
    "        (51.990670889691806, 4.3746942248659515),\n",
    "    ]\n",
    "]\n",
    "_stations = [\n",
    "    [\"SD\",   \"Station Delft\",           (239,71,111)],\n",
    "    [\"DC\",   \"Delft Campus Station\",    (6,214,160)]\n",
    "]\n",
    "stations = {short: Loc(name, short, color=color) for short, name, color in _stations}"
   ]
  },
  {
   "source": [
    "## Get points\n",
    "\n",
    "Populate the campus area polygons with points. Each point will be used to find the transportation time from the point to both stations. "
   ],
   "cell_type": "markdown",
   "metadata": {}
  },
  {
   "cell_type": "code",
   "execution_count": 15,
   "metadata": {
    "tags": []
   },
   "outputs": [
    {
     "output_type": "stream",
     "name": "stdout",
     "text": [
      "search region contains 751 points.\n"
     ]
    }
   ],
   "source": [
    "lats, lngs = list(map(list, zip(*[cor for polygon in TU_coordinates for cor in polygon])))\n",
    "ypts, xpts = 60, 40\n",
    "y, x = np.meshgrid(np.linspace(min(lats), max(lats), ypts), np.linspace(min(lngs), max(lngs), xpts)) \n",
    "y, x = y.flatten(), x.flatten()\n",
    "points = np.vstack((y, x)).T \n",
    "\n",
    "paths = [matplotlib.path.Path(coordinates) for coordinates in TU_coordinates]\n",
    "grids = [path.contains_points(points) for path in paths]\n",
    "search_pts = [(round(lat, 6), round(lng, 6)) for grid in grids for lat, lng, in_region in zip(y, x, grid) if in_region ]\n",
    "\n",
    "print(\"search region contains {} points.\".format(len(search_pts)))"
   ]
  },
  {
   "source": [
    "## Find transportation time"
   ],
   "cell_type": "markdown",
   "metadata": {}
  },
  {
   "cell_type": "code",
   "execution_count": 19,
   "metadata": {
    "tags": []
   },
   "outputs": [
    {
     "output_type": "stream",
     "name": "stdout",
     "text": [
      "finding times for mode: transit\n",
      " 2400/?... rate=339.06 Hz, total=0:00:07, wall=11:09 CET\n",
      " 2400/?... rate=40.28 Hz, total=0:02:06, wall=11:11 CET\n",
      " 2400/?... rate=62.49 Hz, total=0:00:38, wall=11:12 CET\n",
      "Mode [transit]: Station Delft with 94%\n",
      "finding times for mode: driving\n",
      " 2400/?... rate=390.19 Hz, total=0:00:06, wall=11:12 CET\n",
      " 2400/?... rate=32.36 Hz, total=0:01:14, wall=11:13 CET\n",
      " 2400/?... rate=113.97 Hz, total=0:00:21, wall=11:13 CET\n",
      "Mode [driving]: Delft Campus Station with 92%\n"
     ]
    }
   ],
   "source": [
    "\n",
    "modes = [\"bicycling\", \"walking\", \"transit\", \"driving\"]\n",
    "now = datetime.now()\n",
    "distribution = {}\n",
    "\n",
    "for mode in modes:\n",
    "    print(f\"finding times for mode: {mode}\")\n",
    "\n",
    "    # Get travel times\n",
    "    pt_closest = []\n",
    "    pt_array = []\n",
    "    for grid in grids:\n",
    "        for lat, lng, in_region in prog(zip(y, x, grid)):\n",
    "            if in_region:\n",
    "                times = dd(int)\n",
    "                try: \n",
    "                    for station in stations.values():\n",
    "                        directions = gmspy.directions(\n",
    "                            (lat, lng),\n",
    "                            (station.lat, station.lng),\n",
    "                            mode=mode,\n",
    "                            departure_time=now\n",
    "                        )\n",
    "                        times[station.short] = sum(\n",
    "                            leg[\"duration\"][\"value\"]\n",
    "                            for leg in directions[0][\"legs\"]\n",
    "                        )\n",
    "                    short = min(times, key=times.get)\n",
    "                    pt_closest.append(short)\n",
    "                    pt_array.append(short)\n",
    "                except:\n",
    "                    continue\n",
    "            else:\n",
    "                pt_array.append(None)\n",
    "\n",
    "    # Find closest\n",
    "    sd_locs = [pt for pt, station in zip(search_pts, pt_closest) if station == \"SD\"]\n",
    "    dc_locs = [pt for pt, station in zip(search_pts, pt_closest) if station == \"DC\"]\n",
    "    if len(sd_locs) > len(dc_locs):\n",
    "        name = stations[\"SD\"].name\n",
    "        per = round(len(sd_locs)/len(search_pts)*100)\n",
    "        distribution[mode] = {\"SD\": per, \"DC\": 100-per}\n",
    "    else:\n",
    "        name = stations[\"DC\"].name\n",
    "        per = round(len(dc_locs)/len(search_pts)*100)\n",
    "        distribution[mode] = {\"DC\": per, \"SD\": 100-per}\n",
    "    print(f\"Mode [{mode}]: {name} with {per}%\")\n",
    "\n",
    "    # Save to geojson\n",
    "    features = []\n",
    "    features += [geojson.Feature(\n",
    "        geometry=geojson.Point((loc[1], loc[0])),\n",
    "        properties={\"station\": \"Station Delft\"}) for loc in sd_locs\n",
    "    ]\n",
    "    features += [geojson.Feature(\n",
    "        geometry=geojson.Point((loc[1], loc[0])), \n",
    "        properties={\"station\": \"Delft Campus\"}) for loc in dc_locs\n",
    "    ]\n",
    "    feature_collection = geojson.FeatureCollection(features)\n",
    "    with open('points_driving.geojson', 'w') as f:\n",
    "        geojson.dump(feature_collection, f)"
   ]
  },
  {
   "source": [
    "Plot distributions"
   ],
   "cell_type": "markdown",
   "metadata": {}
  },
  {
   "cell_type": "code",
   "execution_count": 79,
   "metadata": {},
   "outputs": [
    {
     "output_type": "display_data",
     "data": {
      "text/plain": "<Figure size 432x288 with 1 Axes>",
      "image/svg+xml": "<?xml version=\"1.0\" encoding=\"utf-8\" standalone=\"no\"?>\n<!DOCTYPE svg PUBLIC \"-//W3C//DTD SVG 1.1//EN\"\n  \"http://www.w3.org/Graphics/SVG/1.1/DTD/svg11.dtd\">\n<!-- Created with matplotlib (https://matplotlib.org/) -->\n<svg height=\"228.936754pt\" version=\"1.1\" viewBox=\"0 0 424.578125 228.936754\" width=\"424.578125pt\" xmlns=\"http://www.w3.org/2000/svg\" xmlns:xlink=\"http://www.w3.org/1999/xlink\">\n <metadata>\n  <rdf:RDF xmlns:cc=\"http://creativecommons.org/ns#\" xmlns:dc=\"http://purl.org/dc/elements/1.1/\" xmlns:rdf=\"http://www.w3.org/1999/02/22-rdf-syntax-ns#\">\n   <cc:Work>\n    <dc:type rdf:resource=\"http://purl.org/dc/dcmitype/StillImage\"/>\n    <dc:date>2020-10-19T12:21:50.051402</dc:date>\n    <dc:format>image/svg+xml</dc:format>\n    <dc:creator>\n     <cc:Agent>\n      <dc:title>Matplotlib v3.3.2, https://matplotlib.org/</dc:title>\n     </cc:Agent>\n    </dc:creator>\n   </cc:Work>\n  </rdf:RDF>\n </metadata>\n <defs>\n  <style type=\"text/css\">*{stroke-linecap:butt;stroke-linejoin:round;}</style>\n </defs>\n <g id=\"figure_1\">\n  <g id=\"patch_1\">\n   <path d=\"M -0 228.936754 \nL 424.578125 228.936754 \nL 424.578125 0 \nL -0 0 \nz\n\" style=\"fill:none;\"/>\n  </g>\n  <g id=\"axes_1\">\n   <g id=\"patch_2\">\n    <path d=\"M 40.603125 205.058629 \nL 417.378125 205.058629 \nL 417.378125 22.318125 \nL 40.603125 22.318125 \nz\n\" style=\"fill:#ffffff;\"/>\n   </g>\n   <g id=\"patch_3\">\n    <path clip-path=\"url(#pe73f300cab)\" d=\"M 57.729261 205.058629 \nL 90.13006 205.058629 \nL 90.13006 84.712806 \nL 57.729261 84.712806 \nz\n\" style=\"fill:#3bb2d0;\"/>\n   </g>\n   <g id=\"patch_4\">\n    <path clip-path=\"url(#pe73f300cab)\" d=\"M 150.302971 205.058629 \nL 182.70377 205.058629 \nL 182.70377 71.752486 \nL 150.302971 71.752486 \nz\n\" style=\"fill:#3bb2d0;\"/>\n   </g>\n   <g id=\"patch_5\">\n    <path clip-path=\"url(#pe73f300cab)\" d=\"M 242.876682 205.058629 \nL 275.27748 205.058629 \nL 275.27748 193.949783 \nL 242.876682 193.949783 \nz\n\" style=\"fill:#3bb2d0;\"/>\n   </g>\n   <g id=\"patch_6\">\n    <path clip-path=\"url(#pe73f300cab)\" d=\"M 335.450392 205.058629 \nL 367.85119 205.058629 \nL 367.85119 34.723002 \nL 335.450392 34.723002 \nz\n\" style=\"fill:#3bb2d0;\"/>\n   </g>\n   <g id=\"patch_7\">\n    <path clip-path=\"url(#pe73f300cab)\" d=\"M 90.13006 205.058629 \nL 122.530858 205.058629 \nL 122.530858 140.257032 \nL 90.13006 140.257032 \nz\n\" style=\"fill:#e55e5e;\"/>\n   </g>\n   <g id=\"patch_8\">\n    <path clip-path=\"url(#pe73f300cab)\" d=\"M 182.70377 205.058629 \nL 215.104568 205.058629 \nL 215.104568 153.217351 \nL 182.70377 153.217351 \nz\n\" style=\"fill:#e55e5e;\"/>\n   </g>\n   <g id=\"patch_9\">\n    <path clip-path=\"url(#pe73f300cab)\" d=\"M 275.27748 205.058629 \nL 307.678279 205.058629 \nL 307.678279 31.020054 \nL 275.27748 31.020054 \nz\n\" style=\"fill:#e55e5e;\"/>\n   </g>\n   <g id=\"patch_10\">\n    <path clip-path=\"url(#pe73f300cab)\" d=\"M 367.85119 205.058629 \nL 400.251989 205.058629 \nL 400.251989 190.246835 \nL 367.85119 190.246835 \nz\n\" style=\"fill:#e55e5e;\"/>\n   </g>\n   <g id=\"matplotlib.axis_1\">\n    <g id=\"xtick_1\">\n     <g id=\"line2d_1\">\n      <defs>\n       <path d=\"M 0 0 \nL 0 3.5 \n\" id=\"mc02dbcf7dc\" style=\"stroke:#ffffff;stroke-width:0.8;\"/>\n      </defs>\n      <g>\n       <use style=\"fill:#ffffff;stroke:#ffffff;stroke-width:0.8;\" x=\"90.13006\" xlink:href=\"#mc02dbcf7dc\" y=\"205.058629\"/>\n      </g>\n     </g>\n     <g id=\"text_1\">\n      <!-- bicycling -->\n      <g style=\"fill:#ffffff;\" transform=\"translate(67.987872 219.657066)scale(0.1 -0.1)\">\n       <defs>\n        <path d=\"M 48.6875 27.296875 \nQ 48.6875 37.203125 44.609375 42.84375 \nQ 40.53125 48.484375 33.40625 48.484375 \nQ 26.265625 48.484375 22.1875 42.84375 \nQ 18.109375 37.203125 18.109375 27.296875 \nQ 18.109375 17.390625 22.1875 11.75 \nQ 26.265625 6.109375 33.40625 6.109375 \nQ 40.53125 6.109375 44.609375 11.75 \nQ 48.6875 17.390625 48.6875 27.296875 \nz\nM 18.109375 46.390625 \nQ 20.953125 51.265625 25.265625 53.625 \nQ 29.59375 56 35.59375 56 \nQ 45.5625 56 51.78125 48.09375 \nQ 58.015625 40.1875 58.015625 27.296875 \nQ 58.015625 14.40625 51.78125 6.484375 \nQ 45.5625 -1.421875 35.59375 -1.421875 \nQ 29.59375 -1.421875 25.265625 0.953125 \nQ 20.953125 3.328125 18.109375 8.203125 \nL 18.109375 0 \nL 9.078125 0 \nL 9.078125 75.984375 \nL 18.109375 75.984375 \nz\n\" id=\"DejaVuSans-98\"/>\n        <path d=\"M 9.421875 54.6875 \nL 18.40625 54.6875 \nL 18.40625 0 \nL 9.421875 0 \nz\nM 9.421875 75.984375 \nL 18.40625 75.984375 \nL 18.40625 64.59375 \nL 9.421875 64.59375 \nz\n\" id=\"DejaVuSans-105\"/>\n        <path d=\"M 48.78125 52.59375 \nL 48.78125 44.1875 \nQ 44.96875 46.296875 41.140625 47.34375 \nQ 37.3125 48.390625 33.40625 48.390625 \nQ 24.65625 48.390625 19.8125 42.84375 \nQ 14.984375 37.3125 14.984375 27.296875 \nQ 14.984375 17.28125 19.8125 11.734375 \nQ 24.65625 6.203125 33.40625 6.203125 \nQ 37.3125 6.203125 41.140625 7.25 \nQ 44.96875 8.296875 48.78125 10.40625 \nL 48.78125 2.09375 \nQ 45.015625 0.34375 40.984375 -0.53125 \nQ 36.96875 -1.421875 32.421875 -1.421875 \nQ 20.0625 -1.421875 12.78125 6.34375 \nQ 5.515625 14.109375 5.515625 27.296875 \nQ 5.515625 40.671875 12.859375 48.328125 \nQ 20.21875 56 33.015625 56 \nQ 37.15625 56 41.109375 55.140625 \nQ 45.0625 54.296875 48.78125 52.59375 \nz\n\" id=\"DejaVuSans-99\"/>\n        <path d=\"M 32.171875 -5.078125 \nQ 28.375 -14.84375 24.75 -17.8125 \nQ 21.140625 -20.796875 15.09375 -20.796875 \nL 7.90625 -20.796875 \nL 7.90625 -13.28125 \nL 13.1875 -13.28125 \nQ 16.890625 -13.28125 18.9375 -11.515625 \nQ 21 -9.765625 23.484375 -3.21875 \nL 25.09375 0.875 \nL 2.984375 54.6875 \nL 12.5 54.6875 \nL 29.59375 11.921875 \nL 46.6875 54.6875 \nL 56.203125 54.6875 \nz\n\" id=\"DejaVuSans-121\"/>\n        <path d=\"M 9.421875 75.984375 \nL 18.40625 75.984375 \nL 18.40625 0 \nL 9.421875 0 \nz\n\" id=\"DejaVuSans-108\"/>\n        <path d=\"M 54.890625 33.015625 \nL 54.890625 0 \nL 45.90625 0 \nL 45.90625 32.71875 \nQ 45.90625 40.484375 42.875 44.328125 \nQ 39.84375 48.1875 33.796875 48.1875 \nQ 26.515625 48.1875 22.3125 43.546875 \nQ 18.109375 38.921875 18.109375 30.90625 \nL 18.109375 0 \nL 9.078125 0 \nL 9.078125 54.6875 \nL 18.109375 54.6875 \nL 18.109375 46.1875 \nQ 21.34375 51.125 25.703125 53.5625 \nQ 30.078125 56 35.796875 56 \nQ 45.21875 56 50.046875 50.171875 \nQ 54.890625 44.34375 54.890625 33.015625 \nz\n\" id=\"DejaVuSans-110\"/>\n        <path d=\"M 45.40625 27.984375 \nQ 45.40625 37.75 41.375 43.109375 \nQ 37.359375 48.484375 30.078125 48.484375 \nQ 22.859375 48.484375 18.828125 43.109375 \nQ 14.796875 37.75 14.796875 27.984375 \nQ 14.796875 18.265625 18.828125 12.890625 \nQ 22.859375 7.515625 30.078125 7.515625 \nQ 37.359375 7.515625 41.375 12.890625 \nQ 45.40625 18.265625 45.40625 27.984375 \nz\nM 54.390625 6.78125 \nQ 54.390625 -7.171875 48.1875 -13.984375 \nQ 42 -20.796875 29.203125 -20.796875 \nQ 24.46875 -20.796875 20.265625 -20.09375 \nQ 16.0625 -19.390625 12.109375 -17.921875 \nL 12.109375 -9.1875 \nQ 16.0625 -11.328125 19.921875 -12.34375 \nQ 23.78125 -13.375 27.78125 -13.375 \nQ 36.625 -13.375 41.015625 -8.765625 \nQ 45.40625 -4.15625 45.40625 5.171875 \nL 45.40625 9.625 \nQ 42.625 4.78125 38.28125 2.390625 \nQ 33.9375 0 27.875 0 \nQ 17.828125 0 11.671875 7.65625 \nQ 5.515625 15.328125 5.515625 27.984375 \nQ 5.515625 40.671875 11.671875 48.328125 \nQ 17.828125 56 27.875 56 \nQ 33.9375 56 38.28125 53.609375 \nQ 42.625 51.21875 45.40625 46.390625 \nL 45.40625 54.6875 \nL 54.390625 54.6875 \nz\n\" id=\"DejaVuSans-103\"/>\n       </defs>\n       <use xlink:href=\"#DejaVuSans-98\"/>\n       <use x=\"63.476562\" xlink:href=\"#DejaVuSans-105\"/>\n       <use x=\"91.259766\" xlink:href=\"#DejaVuSans-99\"/>\n       <use x=\"146.240234\" xlink:href=\"#DejaVuSans-121\"/>\n       <use x=\"205.419922\" xlink:href=\"#DejaVuSans-99\"/>\n       <use x=\"260.400391\" xlink:href=\"#DejaVuSans-108\"/>\n       <use x=\"288.183594\" xlink:href=\"#DejaVuSans-105\"/>\n       <use x=\"315.966797\" xlink:href=\"#DejaVuSans-110\"/>\n       <use x=\"379.345703\" xlink:href=\"#DejaVuSans-103\"/>\n      </g>\n     </g>\n    </g>\n    <g id=\"xtick_2\">\n     <g id=\"line2d_2\">\n      <g>\n       <use style=\"fill:#ffffff;stroke:#ffffff;stroke-width:0.8;\" x=\"182.70377\" xlink:href=\"#mc02dbcf7dc\" y=\"205.058629\"/>\n      </g>\n     </g>\n     <g id=\"text_2\">\n      <!-- walking -->\n      <g style=\"fill:#ffffff;\" transform=\"translate(163.534239 219.657066)scale(0.1 -0.1)\">\n       <defs>\n        <path d=\"M 4.203125 54.6875 \nL 13.1875 54.6875 \nL 24.421875 12.015625 \nL 35.59375 54.6875 \nL 46.1875 54.6875 \nL 57.421875 12.015625 \nL 68.609375 54.6875 \nL 77.59375 54.6875 \nL 63.28125 0 \nL 52.6875 0 \nL 40.921875 44.828125 \nL 29.109375 0 \nL 18.5 0 \nz\n\" id=\"DejaVuSans-119\"/>\n        <path d=\"M 34.28125 27.484375 \nQ 23.390625 27.484375 19.1875 25 \nQ 14.984375 22.515625 14.984375 16.5 \nQ 14.984375 11.71875 18.140625 8.90625 \nQ 21.296875 6.109375 26.703125 6.109375 \nQ 34.1875 6.109375 38.703125 11.40625 \nQ 43.21875 16.703125 43.21875 25.484375 \nL 43.21875 27.484375 \nz\nM 52.203125 31.203125 \nL 52.203125 0 \nL 43.21875 0 \nL 43.21875 8.296875 \nQ 40.140625 3.328125 35.546875 0.953125 \nQ 30.953125 -1.421875 24.3125 -1.421875 \nQ 15.921875 -1.421875 10.953125 3.296875 \nQ 6 8.015625 6 15.921875 \nQ 6 25.140625 12.171875 29.828125 \nQ 18.359375 34.515625 30.609375 34.515625 \nL 43.21875 34.515625 \nL 43.21875 35.40625 \nQ 43.21875 41.609375 39.140625 45 \nQ 35.0625 48.390625 27.6875 48.390625 \nQ 23 48.390625 18.546875 47.265625 \nQ 14.109375 46.140625 10.015625 43.890625 \nL 10.015625 52.203125 \nQ 14.9375 54.109375 19.578125 55.046875 \nQ 24.21875 56 28.609375 56 \nQ 40.484375 56 46.34375 49.84375 \nQ 52.203125 43.703125 52.203125 31.203125 \nz\n\" id=\"DejaVuSans-97\"/>\n        <path d=\"M 9.078125 75.984375 \nL 18.109375 75.984375 \nL 18.109375 31.109375 \nL 44.921875 54.6875 \nL 56.390625 54.6875 \nL 27.390625 29.109375 \nL 57.625 0 \nL 45.90625 0 \nL 18.109375 26.703125 \nL 18.109375 0 \nL 9.078125 0 \nz\n\" id=\"DejaVuSans-107\"/>\n       </defs>\n       <use xlink:href=\"#DejaVuSans-119\"/>\n       <use x=\"81.787109\" xlink:href=\"#DejaVuSans-97\"/>\n       <use x=\"143.066406\" xlink:href=\"#DejaVuSans-108\"/>\n       <use x=\"170.849609\" xlink:href=\"#DejaVuSans-107\"/>\n       <use x=\"228.759766\" xlink:href=\"#DejaVuSans-105\"/>\n       <use x=\"256.542969\" xlink:href=\"#DejaVuSans-110\"/>\n       <use x=\"319.921875\" xlink:href=\"#DejaVuSans-103\"/>\n      </g>\n     </g>\n    </g>\n    <g id=\"xtick_3\">\n     <g id=\"line2d_3\">\n      <g>\n       <use style=\"fill:#ffffff;stroke:#ffffff;stroke-width:0.8;\" x=\"275.27748\" xlink:href=\"#mc02dbcf7dc\" y=\"205.058629\"/>\n      </g>\n     </g>\n     <g id=\"text_3\">\n      <!-- transit -->\n      <g style=\"fill:#ffffff;\" transform=\"translate(259.075136 219.657066)scale(0.1 -0.1)\">\n       <defs>\n        <path d=\"M 18.3125 70.21875 \nL 18.3125 54.6875 \nL 36.8125 54.6875 \nL 36.8125 47.703125 \nL 18.3125 47.703125 \nL 18.3125 18.015625 \nQ 18.3125 11.328125 20.140625 9.421875 \nQ 21.96875 7.515625 27.59375 7.515625 \nL 36.8125 7.515625 \nL 36.8125 0 \nL 27.59375 0 \nQ 17.1875 0 13.234375 3.875 \nQ 9.28125 7.765625 9.28125 18.015625 \nL 9.28125 47.703125 \nL 2.6875 47.703125 \nL 2.6875 54.6875 \nL 9.28125 54.6875 \nL 9.28125 70.21875 \nz\n\" id=\"DejaVuSans-116\"/>\n        <path d=\"M 41.109375 46.296875 \nQ 39.59375 47.171875 37.8125 47.578125 \nQ 36.03125 48 33.890625 48 \nQ 26.265625 48 22.1875 43.046875 \nQ 18.109375 38.09375 18.109375 28.8125 \nL 18.109375 0 \nL 9.078125 0 \nL 9.078125 54.6875 \nL 18.109375 54.6875 \nL 18.109375 46.1875 \nQ 20.953125 51.171875 25.484375 53.578125 \nQ 30.03125 56 36.53125 56 \nQ 37.453125 56 38.578125 55.875 \nQ 39.703125 55.765625 41.0625 55.515625 \nz\n\" id=\"DejaVuSans-114\"/>\n        <path d=\"M 44.28125 53.078125 \nL 44.28125 44.578125 \nQ 40.484375 46.53125 36.375 47.5 \nQ 32.28125 48.484375 27.875 48.484375 \nQ 21.1875 48.484375 17.84375 46.4375 \nQ 14.5 44.390625 14.5 40.28125 \nQ 14.5 37.15625 16.890625 35.375 \nQ 19.28125 33.59375 26.515625 31.984375 \nL 29.59375 31.296875 \nQ 39.15625 29.25 43.1875 25.515625 \nQ 47.21875 21.78125 47.21875 15.09375 \nQ 47.21875 7.46875 41.1875 3.015625 \nQ 35.15625 -1.421875 24.609375 -1.421875 \nQ 20.21875 -1.421875 15.453125 -0.5625 \nQ 10.6875 0.296875 5.421875 2 \nL 5.421875 11.28125 \nQ 10.40625 8.6875 15.234375 7.390625 \nQ 20.0625 6.109375 24.8125 6.109375 \nQ 31.15625 6.109375 34.5625 8.28125 \nQ 37.984375 10.453125 37.984375 14.40625 \nQ 37.984375 18.0625 35.515625 20.015625 \nQ 33.0625 21.96875 24.703125 23.78125 \nL 21.578125 24.515625 \nQ 13.234375 26.265625 9.515625 29.90625 \nQ 5.8125 33.546875 5.8125 39.890625 \nQ 5.8125 47.609375 11.28125 51.796875 \nQ 16.75 56 26.8125 56 \nQ 31.78125 56 36.171875 55.265625 \nQ 40.578125 54.546875 44.28125 53.078125 \nz\n\" id=\"DejaVuSans-115\"/>\n       </defs>\n       <use xlink:href=\"#DejaVuSans-116\"/>\n       <use x=\"39.208984\" xlink:href=\"#DejaVuSans-114\"/>\n       <use x=\"80.322266\" xlink:href=\"#DejaVuSans-97\"/>\n       <use x=\"141.601562\" xlink:href=\"#DejaVuSans-110\"/>\n       <use x=\"204.980469\" xlink:href=\"#DejaVuSans-115\"/>\n       <use x=\"257.080078\" xlink:href=\"#DejaVuSans-105\"/>\n       <use x=\"284.863281\" xlink:href=\"#DejaVuSans-116\"/>\n      </g>\n     </g>\n    </g>\n    <g id=\"xtick_4\">\n     <g id=\"line2d_4\">\n      <g>\n       <use style=\"fill:#ffffff;stroke:#ffffff;stroke-width:0.8;\" x=\"367.85119\" xlink:href=\"#mc02dbcf7dc\" y=\"205.058629\"/>\n      </g>\n     </g>\n     <g id=\"text_4\">\n      <!-- driving -->\n      <g style=\"fill:#ffffff;\" transform=\"translate(350.541034 219.657066)scale(0.1 -0.1)\">\n       <defs>\n        <path d=\"M 45.40625 46.390625 \nL 45.40625 75.984375 \nL 54.390625 75.984375 \nL 54.390625 0 \nL 45.40625 0 \nL 45.40625 8.203125 \nQ 42.578125 3.328125 38.25 0.953125 \nQ 33.9375 -1.421875 27.875 -1.421875 \nQ 17.96875 -1.421875 11.734375 6.484375 \nQ 5.515625 14.40625 5.515625 27.296875 \nQ 5.515625 40.1875 11.734375 48.09375 \nQ 17.96875 56 27.875 56 \nQ 33.9375 56 38.25 53.625 \nQ 42.578125 51.265625 45.40625 46.390625 \nz\nM 14.796875 27.296875 \nQ 14.796875 17.390625 18.875 11.75 \nQ 22.953125 6.109375 30.078125 6.109375 \nQ 37.203125 6.109375 41.296875 11.75 \nQ 45.40625 17.390625 45.40625 27.296875 \nQ 45.40625 37.203125 41.296875 42.84375 \nQ 37.203125 48.484375 30.078125 48.484375 \nQ 22.953125 48.484375 18.875 42.84375 \nQ 14.796875 37.203125 14.796875 27.296875 \nz\n\" id=\"DejaVuSans-100\"/>\n        <path d=\"M 2.984375 54.6875 \nL 12.5 54.6875 \nL 29.59375 8.796875 \nL 46.6875 54.6875 \nL 56.203125 54.6875 \nL 35.6875 0 \nL 23.484375 0 \nz\n\" id=\"DejaVuSans-118\"/>\n       </defs>\n       <use xlink:href=\"#DejaVuSans-100\"/>\n       <use x=\"63.476562\" xlink:href=\"#DejaVuSans-114\"/>\n       <use x=\"104.589844\" xlink:href=\"#DejaVuSans-105\"/>\n       <use x=\"132.373047\" xlink:href=\"#DejaVuSans-118\"/>\n       <use x=\"191.552734\" xlink:href=\"#DejaVuSans-105\"/>\n       <use x=\"219.335938\" xlink:href=\"#DejaVuSans-110\"/>\n       <use x=\"282.714844\" xlink:href=\"#DejaVuSans-103\"/>\n      </g>\n     </g>\n    </g>\n   </g>\n   <g id=\"matplotlib.axis_2\">\n    <g id=\"ytick_1\">\n     <g id=\"line2d_5\">\n      <defs>\n       <path d=\"M 0 0 \nL -3.5 0 \n\" id=\"m92847b90ca\" style=\"stroke:#ffffff;stroke-width:0.8;\"/>\n      </defs>\n      <g>\n       <use style=\"fill:#ffffff;stroke:#ffffff;stroke-width:0.8;\" x=\"40.603125\" xlink:href=\"#m92847b90ca\" y=\"205.058629\"/>\n      </g>\n     </g>\n     <g id=\"text_5\">\n      <!-- 0 -->\n      <g style=\"fill:#ffffff;\" transform=\"translate(27.240625 208.857847)scale(0.1 -0.1)\">\n       <defs>\n        <path d=\"M 31.78125 66.40625 \nQ 24.171875 66.40625 20.328125 58.90625 \nQ 16.5 51.421875 16.5 36.375 \nQ 16.5 21.390625 20.328125 13.890625 \nQ 24.171875 6.390625 31.78125 6.390625 \nQ 39.453125 6.390625 43.28125 13.890625 \nQ 47.125 21.390625 47.125 36.375 \nQ 47.125 51.421875 43.28125 58.90625 \nQ 39.453125 66.40625 31.78125 66.40625 \nz\nM 31.78125 74.21875 \nQ 44.046875 74.21875 50.515625 64.515625 \nQ 56.984375 54.828125 56.984375 36.375 \nQ 56.984375 17.96875 50.515625 8.265625 \nQ 44.046875 -1.421875 31.78125 -1.421875 \nQ 19.53125 -1.421875 13.0625 8.265625 \nQ 6.59375 17.96875 6.59375 36.375 \nQ 6.59375 54.828125 13.0625 64.515625 \nQ 19.53125 74.21875 31.78125 74.21875 \nz\n\" id=\"DejaVuSans-48\"/>\n       </defs>\n       <use xlink:href=\"#DejaVuSans-48\"/>\n      </g>\n     </g>\n    </g>\n    <g id=\"ytick_2\">\n     <g id=\"line2d_6\">\n      <g>\n       <use style=\"fill:#ffffff;stroke:#ffffff;stroke-width:0.8;\" x=\"40.603125\" xlink:href=\"#m92847b90ca\" y=\"168.029145\"/>\n      </g>\n     </g>\n     <g id=\"text_6\">\n      <!-- 20 -->\n      <g style=\"fill:#ffffff;\" transform=\"translate(20.878125 171.828363)scale(0.1 -0.1)\">\n       <defs>\n        <path d=\"M 19.1875 8.296875 \nL 53.609375 8.296875 \nL 53.609375 0 \nL 7.328125 0 \nL 7.328125 8.296875 \nQ 12.9375 14.109375 22.625 23.890625 \nQ 32.328125 33.6875 34.8125 36.53125 \nQ 39.546875 41.84375 41.421875 45.53125 \nQ 43.3125 49.21875 43.3125 52.78125 \nQ 43.3125 58.59375 39.234375 62.25 \nQ 35.15625 65.921875 28.609375 65.921875 \nQ 23.96875 65.921875 18.8125 64.3125 \nQ 13.671875 62.703125 7.8125 59.421875 \nL 7.8125 69.390625 \nQ 13.765625 71.78125 18.9375 73 \nQ 24.125 74.21875 28.421875 74.21875 \nQ 39.75 74.21875 46.484375 68.546875 \nQ 53.21875 62.890625 53.21875 53.421875 \nQ 53.21875 48.921875 51.53125 44.890625 \nQ 49.859375 40.875 45.40625 35.40625 \nQ 44.1875 33.984375 37.640625 27.21875 \nQ 31.109375 20.453125 19.1875 8.296875 \nz\n\" id=\"DejaVuSans-50\"/>\n       </defs>\n       <use xlink:href=\"#DejaVuSans-50\"/>\n       <use x=\"63.623047\" xlink:href=\"#DejaVuSans-48\"/>\n      </g>\n     </g>\n    </g>\n    <g id=\"ytick_3\">\n     <g id=\"line2d_7\">\n      <g>\n       <use style=\"fill:#ffffff;stroke:#ffffff;stroke-width:0.8;\" x=\"40.603125\" xlink:href=\"#m92847b90ca\" y=\"130.999661\"/>\n      </g>\n     </g>\n     <g id=\"text_7\">\n      <!-- 40 -->\n      <g style=\"fill:#ffffff;\" transform=\"translate(20.878125 134.798879)scale(0.1 -0.1)\">\n       <defs>\n        <path d=\"M 37.796875 64.3125 \nL 12.890625 25.390625 \nL 37.796875 25.390625 \nz\nM 35.203125 72.90625 \nL 47.609375 72.90625 \nL 47.609375 25.390625 \nL 58.015625 25.390625 \nL 58.015625 17.1875 \nL 47.609375 17.1875 \nL 47.609375 0 \nL 37.796875 0 \nL 37.796875 17.1875 \nL 4.890625 17.1875 \nL 4.890625 26.703125 \nz\n\" id=\"DejaVuSans-52\"/>\n       </defs>\n       <use xlink:href=\"#DejaVuSans-52\"/>\n       <use x=\"63.623047\" xlink:href=\"#DejaVuSans-48\"/>\n      </g>\n     </g>\n    </g>\n    <g id=\"ytick_4\">\n     <g id=\"line2d_8\">\n      <g>\n       <use style=\"fill:#ffffff;stroke:#ffffff;stroke-width:0.8;\" x=\"40.603125\" xlink:href=\"#m92847b90ca\" y=\"93.970177\"/>\n      </g>\n     </g>\n     <g id=\"text_8\">\n      <!-- 60 -->\n      <g style=\"fill:#ffffff;\" transform=\"translate(20.878125 97.769395)scale(0.1 -0.1)\">\n       <defs>\n        <path d=\"M 33.015625 40.375 \nQ 26.375 40.375 22.484375 35.828125 \nQ 18.609375 31.296875 18.609375 23.390625 \nQ 18.609375 15.53125 22.484375 10.953125 \nQ 26.375 6.390625 33.015625 6.390625 \nQ 39.65625 6.390625 43.53125 10.953125 \nQ 47.40625 15.53125 47.40625 23.390625 \nQ 47.40625 31.296875 43.53125 35.828125 \nQ 39.65625 40.375 33.015625 40.375 \nz\nM 52.59375 71.296875 \nL 52.59375 62.3125 \nQ 48.875 64.0625 45.09375 64.984375 \nQ 41.3125 65.921875 37.59375 65.921875 \nQ 27.828125 65.921875 22.671875 59.328125 \nQ 17.53125 52.734375 16.796875 39.40625 \nQ 19.671875 43.65625 24.015625 45.921875 \nQ 28.375 48.1875 33.59375 48.1875 \nQ 44.578125 48.1875 50.953125 41.515625 \nQ 57.328125 34.859375 57.328125 23.390625 \nQ 57.328125 12.15625 50.6875 5.359375 \nQ 44.046875 -1.421875 33.015625 -1.421875 \nQ 20.359375 -1.421875 13.671875 8.265625 \nQ 6.984375 17.96875 6.984375 36.375 \nQ 6.984375 53.65625 15.1875 63.9375 \nQ 23.390625 74.21875 37.203125 74.21875 \nQ 40.921875 74.21875 44.703125 73.484375 \nQ 48.484375 72.75 52.59375 71.296875 \nz\n\" id=\"DejaVuSans-54\"/>\n       </defs>\n       <use xlink:href=\"#DejaVuSans-54\"/>\n       <use x=\"63.623047\" xlink:href=\"#DejaVuSans-48\"/>\n      </g>\n     </g>\n    </g>\n    <g id=\"ytick_5\">\n     <g id=\"line2d_9\">\n      <g>\n       <use style=\"fill:#ffffff;stroke:#ffffff;stroke-width:0.8;\" x=\"40.603125\" xlink:href=\"#m92847b90ca\" y=\"56.940693\"/>\n      </g>\n     </g>\n     <g id=\"text_9\">\n      <!-- 80 -->\n      <g style=\"fill:#ffffff;\" transform=\"translate(20.878125 60.739911)scale(0.1 -0.1)\">\n       <defs>\n        <path d=\"M 31.78125 34.625 \nQ 24.75 34.625 20.71875 30.859375 \nQ 16.703125 27.09375 16.703125 20.515625 \nQ 16.703125 13.921875 20.71875 10.15625 \nQ 24.75 6.390625 31.78125 6.390625 \nQ 38.8125 6.390625 42.859375 10.171875 \nQ 46.921875 13.96875 46.921875 20.515625 \nQ 46.921875 27.09375 42.890625 30.859375 \nQ 38.875 34.625 31.78125 34.625 \nz\nM 21.921875 38.8125 \nQ 15.578125 40.375 12.03125 44.71875 \nQ 8.5 49.078125 8.5 55.328125 \nQ 8.5 64.0625 14.71875 69.140625 \nQ 20.953125 74.21875 31.78125 74.21875 \nQ 42.671875 74.21875 48.875 69.140625 \nQ 55.078125 64.0625 55.078125 55.328125 \nQ 55.078125 49.078125 51.53125 44.71875 \nQ 48 40.375 41.703125 38.8125 \nQ 48.828125 37.15625 52.796875 32.3125 \nQ 56.78125 27.484375 56.78125 20.515625 \nQ 56.78125 9.90625 50.3125 4.234375 \nQ 43.84375 -1.421875 31.78125 -1.421875 \nQ 19.734375 -1.421875 13.25 4.234375 \nQ 6.78125 9.90625 6.78125 20.515625 \nQ 6.78125 27.484375 10.78125 32.3125 \nQ 14.796875 37.15625 21.921875 38.8125 \nz\nM 18.3125 54.390625 \nQ 18.3125 48.734375 21.84375 45.5625 \nQ 25.390625 42.390625 31.78125 42.390625 \nQ 38.140625 42.390625 41.71875 45.5625 \nQ 45.3125 48.734375 45.3125 54.390625 \nQ 45.3125 60.0625 41.71875 63.234375 \nQ 38.140625 66.40625 31.78125 66.40625 \nQ 25.390625 66.40625 21.84375 63.234375 \nQ 18.3125 60.0625 18.3125 54.390625 \nz\n\" id=\"DejaVuSans-56\"/>\n       </defs>\n       <use xlink:href=\"#DejaVuSans-56\"/>\n       <use x=\"63.623047\" xlink:href=\"#DejaVuSans-48\"/>\n      </g>\n     </g>\n    </g>\n    <g id=\"text_10\">\n     <!-- Percentage -->\n     <g style=\"fill:#ffffff;\" transform=\"translate(14.798438 141.811033)rotate(-90)scale(0.1 -0.1)\">\n      <defs>\n       <path d=\"M 19.671875 64.796875 \nL 19.671875 37.40625 \nL 32.078125 37.40625 \nQ 38.96875 37.40625 42.71875 40.96875 \nQ 46.484375 44.53125 46.484375 51.125 \nQ 46.484375 57.671875 42.71875 61.234375 \nQ 38.96875 64.796875 32.078125 64.796875 \nz\nM 9.8125 72.90625 \nL 32.078125 72.90625 \nQ 44.34375 72.90625 50.609375 67.359375 \nQ 56.890625 61.8125 56.890625 51.125 \nQ 56.890625 40.328125 50.609375 34.8125 \nQ 44.34375 29.296875 32.078125 29.296875 \nL 19.671875 29.296875 \nL 19.671875 0 \nL 9.8125 0 \nz\n\" id=\"DejaVuSans-80\"/>\n       <path d=\"M 56.203125 29.59375 \nL 56.203125 25.203125 \nL 14.890625 25.203125 \nQ 15.484375 15.921875 20.484375 11.0625 \nQ 25.484375 6.203125 34.421875 6.203125 \nQ 39.59375 6.203125 44.453125 7.46875 \nQ 49.3125 8.734375 54.109375 11.28125 \nL 54.109375 2.78125 \nQ 49.265625 0.734375 44.1875 -0.34375 \nQ 39.109375 -1.421875 33.890625 -1.421875 \nQ 20.796875 -1.421875 13.15625 6.1875 \nQ 5.515625 13.8125 5.515625 26.8125 \nQ 5.515625 40.234375 12.765625 48.109375 \nQ 20.015625 56 32.328125 56 \nQ 43.359375 56 49.78125 48.890625 \nQ 56.203125 41.796875 56.203125 29.59375 \nz\nM 47.21875 32.234375 \nQ 47.125 39.59375 43.09375 43.984375 \nQ 39.0625 48.390625 32.421875 48.390625 \nQ 24.90625 48.390625 20.390625 44.140625 \nQ 15.875 39.890625 15.1875 32.171875 \nz\n\" id=\"DejaVuSans-101\"/>\n      </defs>\n      <use xlink:href=\"#DejaVuSans-80\"/>\n      <use x=\"56.677734\" xlink:href=\"#DejaVuSans-101\"/>\n      <use x=\"118.201172\" xlink:href=\"#DejaVuSans-114\"/>\n      <use x=\"157.064453\" xlink:href=\"#DejaVuSans-99\"/>\n      <use x=\"212.044922\" xlink:href=\"#DejaVuSans-101\"/>\n      <use x=\"273.568359\" xlink:href=\"#DejaVuSans-110\"/>\n      <use x=\"336.947266\" xlink:href=\"#DejaVuSans-116\"/>\n      <use x=\"376.15625\" xlink:href=\"#DejaVuSans-97\"/>\n      <use x=\"437.435547\" xlink:href=\"#DejaVuSans-103\"/>\n      <use x=\"500.912109\" xlink:href=\"#DejaVuSans-101\"/>\n     </g>\n    </g>\n   </g>\n   <g id=\"patch_11\">\n    <path d=\"M 40.603125 205.058629 \nL 40.603125 22.318125 \n\" style=\"fill:none;stroke:#ffffff;stroke-linecap:square;stroke-linejoin:miter;stroke-width:0.8;\"/>\n   </g>\n   <g id=\"patch_12\">\n    <path d=\"M 417.378125 205.058629 \nL 417.378125 22.318125 \n\" style=\"fill:none;stroke:#ffffff;stroke-linecap:square;stroke-linejoin:miter;stroke-width:0.8;\"/>\n   </g>\n   <g id=\"patch_13\">\n    <path d=\"M 40.603125 205.058629 \nL 417.378125 205.058629 \n\" style=\"fill:none;stroke:#ffffff;stroke-linecap:square;stroke-linejoin:miter;stroke-width:0.8;\"/>\n   </g>\n   <g id=\"patch_14\">\n    <path d=\"M 40.603125 22.318125 \nL 417.378125 22.318125 \n\" style=\"fill:none;stroke:#ffffff;stroke-linecap:square;stroke-linejoin:miter;stroke-width:0.8;\"/>\n   </g>\n   <g id=\"text_11\">\n    <!-- Distribution of travel times -->\n    <g style=\"fill:#ffffff;\" transform=\"translate(148.3975 16.318125)scale(0.12 -0.12)\">\n     <defs>\n      <path d=\"M 19.671875 64.796875 \nL 19.671875 8.109375 \nL 31.59375 8.109375 \nQ 46.6875 8.109375 53.6875 14.9375 \nQ 60.6875 21.78125 60.6875 36.53125 \nQ 60.6875 51.171875 53.6875 57.984375 \nQ 46.6875 64.796875 31.59375 64.796875 \nz\nM 9.8125 72.90625 \nL 30.078125 72.90625 \nQ 51.265625 72.90625 61.171875 64.09375 \nQ 71.09375 55.28125 71.09375 36.53125 \nQ 71.09375 17.671875 61.125 8.828125 \nQ 51.171875 0 30.078125 0 \nL 9.8125 0 \nz\n\" id=\"DejaVuSans-68\"/>\n      <path d=\"M 8.5 21.578125 \nL 8.5 54.6875 \nL 17.484375 54.6875 \nL 17.484375 21.921875 \nQ 17.484375 14.15625 20.5 10.265625 \nQ 23.53125 6.390625 29.59375 6.390625 \nQ 36.859375 6.390625 41.078125 11.03125 \nQ 45.3125 15.671875 45.3125 23.6875 \nL 45.3125 54.6875 \nL 54.296875 54.6875 \nL 54.296875 0 \nL 45.3125 0 \nL 45.3125 8.40625 \nQ 42.046875 3.421875 37.71875 1 \nQ 33.40625 -1.421875 27.6875 -1.421875 \nQ 18.265625 -1.421875 13.375 4.4375 \nQ 8.5 10.296875 8.5 21.578125 \nz\nM 31.109375 56 \nz\n\" id=\"DejaVuSans-117\"/>\n      <path d=\"M 30.609375 48.390625 \nQ 23.390625 48.390625 19.1875 42.75 \nQ 14.984375 37.109375 14.984375 27.296875 \nQ 14.984375 17.484375 19.15625 11.84375 \nQ 23.34375 6.203125 30.609375 6.203125 \nQ 37.796875 6.203125 41.984375 11.859375 \nQ 46.1875 17.53125 46.1875 27.296875 \nQ 46.1875 37.015625 41.984375 42.703125 \nQ 37.796875 48.390625 30.609375 48.390625 \nz\nM 30.609375 56 \nQ 42.328125 56 49.015625 48.375 \nQ 55.71875 40.765625 55.71875 27.296875 \nQ 55.71875 13.875 49.015625 6.21875 \nQ 42.328125 -1.421875 30.609375 -1.421875 \nQ 18.84375 -1.421875 12.171875 6.21875 \nQ 5.515625 13.875 5.515625 27.296875 \nQ 5.515625 40.765625 12.171875 48.375 \nQ 18.84375 56 30.609375 56 \nz\n\" id=\"DejaVuSans-111\"/>\n      <path id=\"DejaVuSans-32\"/>\n      <path d=\"M 37.109375 75.984375 \nL 37.109375 68.5 \nL 28.515625 68.5 \nQ 23.6875 68.5 21.796875 66.546875 \nQ 19.921875 64.59375 19.921875 59.515625 \nL 19.921875 54.6875 \nL 34.71875 54.6875 \nL 34.71875 47.703125 \nL 19.921875 47.703125 \nL 19.921875 0 \nL 10.890625 0 \nL 10.890625 47.703125 \nL 2.296875 47.703125 \nL 2.296875 54.6875 \nL 10.890625 54.6875 \nL 10.890625 58.5 \nQ 10.890625 67.625 15.140625 71.796875 \nQ 19.390625 75.984375 28.609375 75.984375 \nz\n\" id=\"DejaVuSans-102\"/>\n      <path d=\"M 52 44.1875 \nQ 55.375 50.25 60.0625 53.125 \nQ 64.75 56 71.09375 56 \nQ 79.640625 56 84.28125 50.015625 \nQ 88.921875 44.046875 88.921875 33.015625 \nL 88.921875 0 \nL 79.890625 0 \nL 79.890625 32.71875 \nQ 79.890625 40.578125 77.09375 44.375 \nQ 74.3125 48.1875 68.609375 48.1875 \nQ 61.625 48.1875 57.5625 43.546875 \nQ 53.515625 38.921875 53.515625 30.90625 \nL 53.515625 0 \nL 44.484375 0 \nL 44.484375 32.71875 \nQ 44.484375 40.625 41.703125 44.40625 \nQ 38.921875 48.1875 33.109375 48.1875 \nQ 26.21875 48.1875 22.15625 43.53125 \nQ 18.109375 38.875 18.109375 30.90625 \nL 18.109375 0 \nL 9.078125 0 \nL 9.078125 54.6875 \nL 18.109375 54.6875 \nL 18.109375 46.1875 \nQ 21.1875 51.21875 25.484375 53.609375 \nQ 29.78125 56 35.6875 56 \nQ 41.65625 56 45.828125 52.96875 \nQ 50 49.953125 52 44.1875 \nz\n\" id=\"DejaVuSans-109\"/>\n     </defs>\n     <use xlink:href=\"#DejaVuSans-68\"/>\n     <use x=\"77.001953\" xlink:href=\"#DejaVuSans-105\"/>\n     <use x=\"104.785156\" xlink:href=\"#DejaVuSans-115\"/>\n     <use x=\"156.884766\" xlink:href=\"#DejaVuSans-116\"/>\n     <use x=\"196.09375\" xlink:href=\"#DejaVuSans-114\"/>\n     <use x=\"237.207031\" xlink:href=\"#DejaVuSans-105\"/>\n     <use x=\"264.990234\" xlink:href=\"#DejaVuSans-98\"/>\n     <use x=\"328.466797\" xlink:href=\"#DejaVuSans-117\"/>\n     <use x=\"391.845703\" xlink:href=\"#DejaVuSans-116\"/>\n     <use x=\"431.054688\" xlink:href=\"#DejaVuSans-105\"/>\n     <use x=\"458.837891\" xlink:href=\"#DejaVuSans-111\"/>\n     <use x=\"520.019531\" xlink:href=\"#DejaVuSans-110\"/>\n     <use x=\"583.398438\" xlink:href=\"#DejaVuSans-32\"/>\n     <use x=\"615.185547\" xlink:href=\"#DejaVuSans-111\"/>\n     <use x=\"676.367188\" xlink:href=\"#DejaVuSans-102\"/>\n     <use x=\"711.572266\" xlink:href=\"#DejaVuSans-32\"/>\n     <use x=\"743.359375\" xlink:href=\"#DejaVuSans-116\"/>\n     <use x=\"782.568359\" xlink:href=\"#DejaVuSans-114\"/>\n     <use x=\"823.681641\" xlink:href=\"#DejaVuSans-97\"/>\n     <use x=\"884.960938\" xlink:href=\"#DejaVuSans-118\"/>\n     <use x=\"944.140625\" xlink:href=\"#DejaVuSans-101\"/>\n     <use x=\"1005.664062\" xlink:href=\"#DejaVuSans-108\"/>\n     <use x=\"1033.447266\" xlink:href=\"#DejaVuSans-32\"/>\n     <use x=\"1065.234375\" xlink:href=\"#DejaVuSans-116\"/>\n     <use x=\"1104.443359\" xlink:href=\"#DejaVuSans-105\"/>\n     <use x=\"1132.226562\" xlink:href=\"#DejaVuSans-109\"/>\n     <use x=\"1229.638672\" xlink:href=\"#DejaVuSans-101\"/>\n     <use x=\"1291.162109\" xlink:href=\"#DejaVuSans-115\"/>\n    </g>\n   </g>\n   <g id=\"legend_1\">\n    <g id=\"patch_15\">\n     <path d=\"M 47.603125 59.674375 \nL 147.425 59.674375 \nQ 149.425 59.674375 149.425 57.674375 \nL 149.425 29.318125 \nQ 149.425 27.318125 147.425 27.318125 \nL 47.603125 27.318125 \nQ 45.603125 27.318125 45.603125 29.318125 \nL 45.603125 57.674375 \nQ 45.603125 59.674375 47.603125 59.674375 \nz\n\" style=\"fill:#ffffff;opacity:0.8;stroke:#cccccc;stroke-linejoin:miter;\"/>\n    </g>\n    <g id=\"patch_16\">\n     <path d=\"M 49.603125 38.916562 \nL 69.603125 38.916562 \nL 69.603125 31.916562 \nL 49.603125 31.916562 \nz\n\" style=\"fill:#3bb2d0;\"/>\n    </g>\n    <g id=\"text_12\">\n     <!-- Delft Campus -->\n     <g transform=\"translate(77.603125 38.916562)scale(0.1 -0.1)\">\n      <defs>\n       <path d=\"M 64.40625 67.28125 \nL 64.40625 56.890625 \nQ 59.421875 61.53125 53.78125 63.8125 \nQ 48.140625 66.109375 41.796875 66.109375 \nQ 29.296875 66.109375 22.65625 58.46875 \nQ 16.015625 50.828125 16.015625 36.375 \nQ 16.015625 21.96875 22.65625 14.328125 \nQ 29.296875 6.6875 41.796875 6.6875 \nQ 48.140625 6.6875 53.78125 8.984375 \nQ 59.421875 11.28125 64.40625 15.921875 \nL 64.40625 5.609375 \nQ 59.234375 2.09375 53.4375 0.328125 \nQ 47.65625 -1.421875 41.21875 -1.421875 \nQ 24.65625 -1.421875 15.125 8.703125 \nQ 5.609375 18.84375 5.609375 36.375 \nQ 5.609375 53.953125 15.125 64.078125 \nQ 24.65625 74.21875 41.21875 74.21875 \nQ 47.75 74.21875 53.53125 72.484375 \nQ 59.328125 70.75 64.40625 67.28125 \nz\n\" id=\"DejaVuSans-67\"/>\n       <path d=\"M 18.109375 8.203125 \nL 18.109375 -20.796875 \nL 9.078125 -20.796875 \nL 9.078125 54.6875 \nL 18.109375 54.6875 \nL 18.109375 46.390625 \nQ 20.953125 51.265625 25.265625 53.625 \nQ 29.59375 56 35.59375 56 \nQ 45.5625 56 51.78125 48.09375 \nQ 58.015625 40.1875 58.015625 27.296875 \nQ 58.015625 14.40625 51.78125 6.484375 \nQ 45.5625 -1.421875 35.59375 -1.421875 \nQ 29.59375 -1.421875 25.265625 0.953125 \nQ 20.953125 3.328125 18.109375 8.203125 \nz\nM 48.6875 27.296875 \nQ 48.6875 37.203125 44.609375 42.84375 \nQ 40.53125 48.484375 33.40625 48.484375 \nQ 26.265625 48.484375 22.1875 42.84375 \nQ 18.109375 37.203125 18.109375 27.296875 \nQ 18.109375 17.390625 22.1875 11.75 \nQ 26.265625 6.109375 33.40625 6.109375 \nQ 40.53125 6.109375 44.609375 11.75 \nQ 48.6875 17.390625 48.6875 27.296875 \nz\n\" id=\"DejaVuSans-112\"/>\n      </defs>\n      <use xlink:href=\"#DejaVuSans-68\"/>\n      <use x=\"77.001953\" xlink:href=\"#DejaVuSans-101\"/>\n      <use x=\"138.525391\" xlink:href=\"#DejaVuSans-108\"/>\n      <use x=\"166.308594\" xlink:href=\"#DejaVuSans-102\"/>\n      <use x=\"199.763672\" xlink:href=\"#DejaVuSans-116\"/>\n      <use x=\"238.972656\" xlink:href=\"#DejaVuSans-32\"/>\n      <use x=\"270.759766\" xlink:href=\"#DejaVuSans-67\"/>\n      <use x=\"340.583984\" xlink:href=\"#DejaVuSans-97\"/>\n      <use x=\"401.863281\" xlink:href=\"#DejaVuSans-109\"/>\n      <use x=\"499.275391\" xlink:href=\"#DejaVuSans-112\"/>\n      <use x=\"562.751953\" xlink:href=\"#DejaVuSans-117\"/>\n      <use x=\"626.130859\" xlink:href=\"#DejaVuSans-115\"/>\n     </g>\n    </g>\n    <g id=\"patch_17\">\n     <path d=\"M 49.603125 53.594687 \nL 69.603125 53.594687 \nL 69.603125 46.594687 \nL 49.603125 46.594687 \nz\n\" style=\"fill:#e55e5e;\"/>\n    </g>\n    <g id=\"text_13\">\n     <!-- Station Delft -->\n     <g transform=\"translate(77.603125 53.594687)scale(0.1 -0.1)\">\n      <defs>\n       <path d=\"M 53.515625 70.515625 \nL 53.515625 60.890625 \nQ 47.90625 63.578125 42.921875 64.890625 \nQ 37.9375 66.21875 33.296875 66.21875 \nQ 25.25 66.21875 20.875 63.09375 \nQ 16.5 59.96875 16.5 54.203125 \nQ 16.5 49.359375 19.40625 46.890625 \nQ 22.3125 44.4375 30.421875 42.921875 \nL 36.375 41.703125 \nQ 47.40625 39.59375 52.65625 34.296875 \nQ 57.90625 29 57.90625 20.125 \nQ 57.90625 9.515625 50.796875 4.046875 \nQ 43.703125 -1.421875 29.984375 -1.421875 \nQ 24.8125 -1.421875 18.96875 -0.25 \nQ 13.140625 0.921875 6.890625 3.21875 \nL 6.890625 13.375 \nQ 12.890625 10.015625 18.65625 8.296875 \nQ 24.421875 6.59375 29.984375 6.59375 \nQ 38.421875 6.59375 43.015625 9.90625 \nQ 47.609375 13.234375 47.609375 19.390625 \nQ 47.609375 24.75 44.3125 27.78125 \nQ 41.015625 30.8125 33.5 32.328125 \nL 27.484375 33.5 \nQ 16.453125 35.6875 11.515625 40.375 \nQ 6.59375 45.0625 6.59375 53.421875 \nQ 6.59375 63.09375 13.40625 68.65625 \nQ 20.21875 74.21875 32.171875 74.21875 \nQ 37.3125 74.21875 42.625 73.28125 \nQ 47.953125 72.359375 53.515625 70.515625 \nz\n\" id=\"DejaVuSans-83\"/>\n      </defs>\n      <use xlink:href=\"#DejaVuSans-83\"/>\n      <use x=\"63.476562\" xlink:href=\"#DejaVuSans-116\"/>\n      <use x=\"102.685547\" xlink:href=\"#DejaVuSans-97\"/>\n      <use x=\"163.964844\" xlink:href=\"#DejaVuSans-116\"/>\n      <use x=\"203.173828\" xlink:href=\"#DejaVuSans-105\"/>\n      <use x=\"230.957031\" xlink:href=\"#DejaVuSans-111\"/>\n      <use x=\"292.138672\" xlink:href=\"#DejaVuSans-110\"/>\n      <use x=\"355.517578\" xlink:href=\"#DejaVuSans-32\"/>\n      <use x=\"387.304688\" xlink:href=\"#DejaVuSans-68\"/>\n      <use x=\"464.306641\" xlink:href=\"#DejaVuSans-101\"/>\n      <use x=\"525.830078\" xlink:href=\"#DejaVuSans-108\"/>\n      <use x=\"553.613281\" xlink:href=\"#DejaVuSans-102\"/>\n      <use x=\"587.068359\" xlink:href=\"#DejaVuSans-116\"/>\n     </g>\n    </g>\n   </g>\n  </g>\n </g>\n <defs>\n  <clipPath id=\"pe73f300cab\">\n   <rect height=\"182.740504\" width=\"376.775\" x=\"40.603125\" y=\"22.318125\"/>\n  </clipPath>\n </defs>\n</svg>\n",
      "image/png": "[encoded data removed]"
     },
     "metadata": {
      "needs_background": "dark"
     }
    }
   ],
   "source": [
    "%matplotlib inline\n",
    "import matplotlib.pyplot as plt\n",
    "\n",
    "labels = modes\n",
    "X = [i for i in range(len(distribution))]\n",
    "width = 0.35\n",
    "\n",
    "fig, ax = plt.subplots()\n",
    "dc_rects = ax.bar(\n",
    "    [x - width/2 for x in X],\n",
    "    [distribution[label][\"DC\"] for label in labels],\n",
    "    width, \n",
    "    color = '#3BB2D0',\n",
    "    label=\"Delft Campus\"\n",
    ")\n",
    "dc_rects = ax.bar(\n",
    "    [x + width/2 for x in X],\n",
    "    [distribution[label][\"SD\"] for label in labels],\n",
    "    width,\n",
    "    color = \"#E55E5E\",\n",
    "    label=\"Station Delft\"\n",
    ")\n",
    "\n",
    "ax.set_ylabel(\"Percentage\")\n",
    "ax.set_title(\"Distribution of travel times\")\n",
    "ax.set_xticks(X)\n",
    "ax.set_xticklabels(labels)\n",
    "ax.legend()\n",
    "ax.set_aspect(0.02)\n",
    "fig.tight_layout()\n",
    "# ax.spines['bottom'].set_color('w')\n",
    "# ax.spines['top'].set_color('w') \n",
    "# ax.spines['right'].set_color('w')\n",
    "# ax.spines['left'].set_color('w')\n",
    "# ax.tick_params(axis='x', colors='w')\n",
    "# ax.tick_params(axis='y', colors='w')\n",
    "# ax.yaxis.label.set_color('w')\n",
    "# ax.xaxis.label.set_color('w')\n",
    "# ax.title.set_color('w')\n",
    "fig.savefig(\"mpl_distribution.png\", dpi=300, transparent=True)"
   ]
  },
  {
   "source": [
    "## Faculties\n"
   ],
   "cell_type": "markdown",
   "metadata": {}
  },
  {
   "cell_type": "code",
   "execution_count": 4,
   "metadata": {
    "tags": []
   },
   "outputs": [
    {
     "output_type": "stream",
     "name": "stdout",
     "text": [
      "Vereniging voor Technische Physica (VvTP), Delft: Lorentzweg 1, a109, 2628 CJ Delft, Netherlands\n",
      "W.I.S.V. 'Christiaan Huygens', Delft: Mekelweg 4, 2628 CD Delft, Netherlands\n",
      "Het Gezelschap 'Practische Studie', Delft: Stevinweg 1-K1.65, 2628 CN Delft, Netherlands\n",
      "VSV 'Leonardo da Vinci', Delft: Kluyverweg 1, 2629 HS Delft, Netherlands\n",
      "Technologisch Gezelschap, Delft: Van der Maasweg 9 (C0.050, 2629 HZ Delft, Netherlands\n",
      "Scheepsbouwkundig Gezelschap 'William Froude', Delft: Mekelweg 2, 2628 CD Delft, Netherlands\n",
      "ID (Studievereniging ID), Delft: Landbergstraat 15, 2628 CE Delft, Netherlands\n",
      "Inholland Delft: Rotterdamseweg 141, 2628 AL Delft, Netherlands\n",
      "Studentenvereniging Nova, Delft: Rotterdamseweg 137, 2628 AL Delft, Netherlands\n",
      "D.B.S.G. Stylos, Delft: Julianalaan 132, 2628 BL Delft, Netherlands\n",
      "S.V.T.B. Curius, Delft: Jaffalaan 5, 2628 BX Delft, Netherlands\n"
     ]
    }
   ],
   "source": [
    "_faculties = [\n",
    "    [\"AS(old)\", 1186,   \"Vereniging voor Technische Physica (VvTP), Delft\"],\n",
    "    [\"EEMCS\",   4024,   \"W.I.S.V. 'Christiaan Huygens', Delft\"],\n",
    "    [\"CEG\",     3644,   \"Het Gezelschap 'Practische Studie', Delft\"],\n",
    "    [\"AE\",      2642,   \"VSV 'Leonardo da Vinci', Delft\"],\n",
    "    [\"AS(new)\", 1958,   \"Technologisch Gezelschap, Delft\"],\n",
    "    [\"3ME\",     4866,   \"Scheepsbouwkundig Gezelschap 'William Froude', Delft\"],\n",
    "    [\"IDE\",     1964,   \"ID (Studievereniging ID), Delft\"],\n",
    "    [\"IH\",      1236,   \"Inholland Delft\"],\n",
    "    [\"HH\",      2658,   \"Studentenvereniging Nova, Delft\"],\n",
    "    [\"BK\",      2806,   \"D.B.S.G. Stylos, Delft\"],\n",
    "    [\"TPM\",     1613,   \"S.V.T.B. Curius, Delft\"]\n",
    "]\n",
    "faculties = {short: Faculty(name, short, students=students) for short, students, name in _faculties}"
   ]
  },
  {
   "cell_type": "code",
   "execution_count": 8,
   "metadata": {
    "tags": []
   },
   "outputs": [
    {
     "output_type": "stream",
     "name": "stdout",
     "text": [
      "finding times for mode: bicycling\n",
      "Mode bicycling: SD with 57%\n",
      "finding times for mode: walking\n",
      "Mode walking: SD with 57%\n",
      "finding times for mode: transit\n",
      "Mode transit: SD with 91%\n",
      "finding times for mode: driving\n",
      "Mode driving: DC with 90%\n"
     ]
    }
   ],
   "source": [
    "tot_students = sum([sd for _, sd, _ in _faculties])\n",
    "modes = [\"bicycling\", \"walking\", \"transit\", \"driving\"]\n",
    "now = datetime.now()\n",
    "fac_dis = {}\n",
    "\n",
    "for mode in modes:\n",
    "    print(f\"finding times for mode: {mode}\")\n",
    "\n",
    "    # Find travel times\n",
    "    station_students = dd(int)\n",
    "    for faculty in faculties.values():\n",
    "        times = dd(int)\n",
    "        for station in stations.values():\n",
    "            directions = gmspy.directions(\n",
    "                faculty.name,\n",
    "                station.name,\n",
    "                mode=mode,\n",
    "                departure_time=now\n",
    "            )\n",
    "            faculty.directions[station.short] = directions\n",
    "            times[station.short] = sum(\n",
    "                leg[\"duration\"][\"value\"] for leg in directions[0][\"legs\"]\n",
    "            )\n",
    "        closest = min(times, key=times.get)\n",
    "        faculty.closest = stations[closest]\n",
    "        station_students[closest] += faculty.students\n",
    "\n",
    "    # Get winner\n",
    "    winner = max(station_students, key=station_students.get)\n",
    "    loser = min(station_students, key=station_students.get)\n",
    "    fac_dis[mode] = {\n",
    "        winner: station_students[winner],\n",
    "        loser: station_students[loser]\n",
    "    }\n",
    "    per = round(station_students[winner]/tot_students*100)\n",
    "    print(f\"Mode {mode}: {winner} with {per}%\")\n",
    "\n",
    "    # Save to geojson\n",
    "    features = []\n",
    "    for short, students, name in _faculties:\n",
    "        faculty = faculties[short]\n",
    "        point = geojson.Point((faculty.lng, faculty.lat))\n",
    "        properties = {\"radius\": students, \"station\": faculty.closest.name, \"html\": f\"{faculty.short}: {faculty.students} students\"}\n",
    "        features.append(geojson.Feature(geometry=point, properties=properties))\n",
    "    feature_collection = geojson.FeatureCollection(features)\n",
    "    with open(f'faculties_{mode}.geojson', 'w') as f:\n",
    "        geojson.dump(feature_collection, f)\n"
   ]
  },
  {
   "cell_type": "code",
   "execution_count": 78,
   "metadata": {
    "tags": []
   },
   "outputs": [
    {
     "output_type": "display_data",
     "data": {
      "text/plain": "<Figure size 432x288 with 1 Axes>",
      "image/svg+xml": "<?xml version=\"1.0\" encoding=\"utf-8\" standalone=\"no\"?>\n<!DOCTYPE svg PUBLIC \"-//W3C//DTD SVG 1.1//EN\"\n  \"http://www.w3.org/Graphics/SVG/1.1/DTD/svg11.dtd\">\n<!-- Created with matplotlib (https://matplotlib.org/) -->\n<svg height=\"213.951323pt\" version=\"1.1\" viewBox=\"0 0 424.790625 213.951323\" width=\"424.790625pt\" xmlns=\"http://www.w3.org/2000/svg\" xmlns:xlink=\"http://www.w3.org/1999/xlink\">\n <metadata>\n  <rdf:RDF xmlns:cc=\"http://creativecommons.org/ns#\" xmlns:dc=\"http://purl.org/dc/elements/1.1/\" xmlns:rdf=\"http://www.w3.org/1999/02/22-rdf-syntax-ns#\">\n   <cc:Work>\n    <dc:type rdf:resource=\"http://purl.org/dc/dcmitype/StillImage\"/>\n    <dc:date>2020-10-19T12:21:24.050304</dc:date>\n    <dc:format>image/svg+xml</dc:format>\n    <dc:creator>\n     <cc:Agent>\n      <dc:title>Matplotlib v3.3.2, https://matplotlib.org/</dc:title>\n     </cc:Agent>\n    </dc:creator>\n   </cc:Work>\n  </rdf:RDF>\n </metadata>\n <defs>\n  <style type=\"text/css\">*{stroke-linecap:butt;stroke-linejoin:round;}</style>\n </defs>\n <g id=\"figure_1\">\n  <g id=\"patch_1\">\n   <path d=\"M 0 213.951323 \nL 424.790625 213.951323 \nL 424.790625 0 \nL 0 0 \nz\n\" style=\"fill:none;\"/>\n  </g>\n  <g id=\"axes_1\">\n   <g id=\"patch_2\">\n    <path d=\"M 59.690625 190.073198 \nL 417.590625 190.073198 \nL 417.590625 22.318125 \nL 59.690625 22.318125 \nz\n\" style=\"fill:#ffffff;\"/>\n   </g>\n   <g id=\"patch_3\">\n    <path clip-path=\"url(#p2761b67b82)\" d=\"M 75.958807 190.073198 \nL 106.736448 190.073198 \nL 106.736448 114.557177 \nL 75.958807 114.557177 \nz\n\" style=\"fill:#3bb2d0;\"/>\n   </g>\n   <g id=\"patch_4\">\n    <path clip-path=\"url(#p2761b67b82)\" d=\"M 163.894925 190.073198 \nL 194.672566 190.073198 \nL 194.672566 114.557177 \nL 163.894925 114.557177 \nz\n\" style=\"fill:#3bb2d0;\"/>\n   </g>\n   <g id=\"patch_5\">\n    <path clip-path=\"url(#p2761b67b82)\" d=\"M 251.831043 190.073198 \nL 282.608684 190.073198 \nL 282.608684 173.810292 \nL 251.831043 173.810292 \nz\n\" style=\"fill:#3bb2d0;\"/>\n   </g>\n   <g id=\"patch_6\">\n    <path clip-path=\"url(#p2761b67b82)\" d=\"M 339.767161 190.073198 \nL 370.544802 190.073198 \nL 370.544802 31.315968 \nL 339.767161 31.315968 \nz\n\" style=\"fill:#3bb2d0;\"/>\n   </g>\n   <g id=\"patch_7\">\n    <path clip-path=\"url(#p2761b67b82)\" d=\"M 106.736448 190.073198 \nL 137.514089 190.073198 \nL 137.514089 89.559577 \nL 106.736448 89.559577 \nz\n\" style=\"fill:#e55e5e;\"/>\n   </g>\n   <g id=\"patch_8\">\n    <path clip-path=\"url(#p2761b67b82)\" d=\"M 194.672566 190.073198 \nL 225.450207 190.073198 \nL 225.450207 89.559577 \nL 194.672566 89.559577 \nz\n\" style=\"fill:#e55e5e;\"/>\n   </g>\n   <g id=\"patch_9\">\n    <path clip-path=\"url(#p2761b67b82)\" d=\"M 282.608684 190.073198 \nL 313.386325 190.073198 \nL 313.386325 30.306462 \nL 282.608684 30.306462 \nz\n\" style=\"fill:#e55e5e;\"/>\n   </g>\n   <g id=\"patch_10\">\n    <path clip-path=\"url(#p2761b67b82)\" d=\"M 370.544802 190.073198 \nL 401.322443 190.073198 \nL 401.322443 172.800785 \nL 370.544802 172.800785 \nz\n\" style=\"fill:#e55e5e;\"/>\n   </g>\n   <g id=\"matplotlib.axis_1\">\n    <g id=\"xtick_1\">\n     <g id=\"line2d_1\">\n      <defs>\n       <path d=\"M 0 0 \nL 0 3.5 \n\" id=\"m07e6032703\" style=\"stroke:#ffffff;stroke-width:0.8;\"/>\n      </defs>\n      <g>\n       <use style=\"fill:#ffffff;stroke:#ffffff;stroke-width:0.8;\" x=\"106.736448\" xlink:href=\"#m07e6032703\" y=\"190.073198\"/>\n      </g>\n     </g>\n     <g id=\"text_1\">\n      <!-- bicycling -->\n      <g style=\"fill:#ffffff;\" transform=\"translate(84.594261 204.671635)scale(0.1 -0.1)\">\n       <defs>\n        <path d=\"M 48.6875 27.296875 \nQ 48.6875 37.203125 44.609375 42.84375 \nQ 40.53125 48.484375 33.40625 48.484375 \nQ 26.265625 48.484375 22.1875 42.84375 \nQ 18.109375 37.203125 18.109375 27.296875 \nQ 18.109375 17.390625 22.1875 11.75 \nQ 26.265625 6.109375 33.40625 6.109375 \nQ 40.53125 6.109375 44.609375 11.75 \nQ 48.6875 17.390625 48.6875 27.296875 \nz\nM 18.109375 46.390625 \nQ 20.953125 51.265625 25.265625 53.625 \nQ 29.59375 56 35.59375 56 \nQ 45.5625 56 51.78125 48.09375 \nQ 58.015625 40.1875 58.015625 27.296875 \nQ 58.015625 14.40625 51.78125 6.484375 \nQ 45.5625 -1.421875 35.59375 -1.421875 \nQ 29.59375 -1.421875 25.265625 0.953125 \nQ 20.953125 3.328125 18.109375 8.203125 \nL 18.109375 0 \nL 9.078125 0 \nL 9.078125 75.984375 \nL 18.109375 75.984375 \nz\n\" id=\"DejaVuSans-98\"/>\n        <path d=\"M 9.421875 54.6875 \nL 18.40625 54.6875 \nL 18.40625 0 \nL 9.421875 0 \nz\nM 9.421875 75.984375 \nL 18.40625 75.984375 \nL 18.40625 64.59375 \nL 9.421875 64.59375 \nz\n\" id=\"DejaVuSans-105\"/>\n        <path d=\"M 48.78125 52.59375 \nL 48.78125 44.1875 \nQ 44.96875 46.296875 41.140625 47.34375 \nQ 37.3125 48.390625 33.40625 48.390625 \nQ 24.65625 48.390625 19.8125 42.84375 \nQ 14.984375 37.3125 14.984375 27.296875 \nQ 14.984375 17.28125 19.8125 11.734375 \nQ 24.65625 6.203125 33.40625 6.203125 \nQ 37.3125 6.203125 41.140625 7.25 \nQ 44.96875 8.296875 48.78125 10.40625 \nL 48.78125 2.09375 \nQ 45.015625 0.34375 40.984375 -0.53125 \nQ 36.96875 -1.421875 32.421875 -1.421875 \nQ 20.0625 -1.421875 12.78125 6.34375 \nQ 5.515625 14.109375 5.515625 27.296875 \nQ 5.515625 40.671875 12.859375 48.328125 \nQ 20.21875 56 33.015625 56 \nQ 37.15625 56 41.109375 55.140625 \nQ 45.0625 54.296875 48.78125 52.59375 \nz\n\" id=\"DejaVuSans-99\"/>\n        <path d=\"M 32.171875 -5.078125 \nQ 28.375 -14.84375 24.75 -17.8125 \nQ 21.140625 -20.796875 15.09375 -20.796875 \nL 7.90625 -20.796875 \nL 7.90625 -13.28125 \nL 13.1875 -13.28125 \nQ 16.890625 -13.28125 18.9375 -11.515625 \nQ 21 -9.765625 23.484375 -3.21875 \nL 25.09375 0.875 \nL 2.984375 54.6875 \nL 12.5 54.6875 \nL 29.59375 11.921875 \nL 46.6875 54.6875 \nL 56.203125 54.6875 \nz\n\" id=\"DejaVuSans-121\"/>\n        <path d=\"M 9.421875 75.984375 \nL 18.40625 75.984375 \nL 18.40625 0 \nL 9.421875 0 \nz\n\" id=\"DejaVuSans-108\"/>\n        <path d=\"M 54.890625 33.015625 \nL 54.890625 0 \nL 45.90625 0 \nL 45.90625 32.71875 \nQ 45.90625 40.484375 42.875 44.328125 \nQ 39.84375 48.1875 33.796875 48.1875 \nQ 26.515625 48.1875 22.3125 43.546875 \nQ 18.109375 38.921875 18.109375 30.90625 \nL 18.109375 0 \nL 9.078125 0 \nL 9.078125 54.6875 \nL 18.109375 54.6875 \nL 18.109375 46.1875 \nQ 21.34375 51.125 25.703125 53.5625 \nQ 30.078125 56 35.796875 56 \nQ 45.21875 56 50.046875 50.171875 \nQ 54.890625 44.34375 54.890625 33.015625 \nz\n\" id=\"DejaVuSans-110\"/>\n        <path d=\"M 45.40625 27.984375 \nQ 45.40625 37.75 41.375 43.109375 \nQ 37.359375 48.484375 30.078125 48.484375 \nQ 22.859375 48.484375 18.828125 43.109375 \nQ 14.796875 37.75 14.796875 27.984375 \nQ 14.796875 18.265625 18.828125 12.890625 \nQ 22.859375 7.515625 30.078125 7.515625 \nQ 37.359375 7.515625 41.375 12.890625 \nQ 45.40625 18.265625 45.40625 27.984375 \nz\nM 54.390625 6.78125 \nQ 54.390625 -7.171875 48.1875 -13.984375 \nQ 42 -20.796875 29.203125 -20.796875 \nQ 24.46875 -20.796875 20.265625 -20.09375 \nQ 16.0625 -19.390625 12.109375 -17.921875 \nL 12.109375 -9.1875 \nQ 16.0625 -11.328125 19.921875 -12.34375 \nQ 23.78125 -13.375 27.78125 -13.375 \nQ 36.625 -13.375 41.015625 -8.765625 \nQ 45.40625 -4.15625 45.40625 5.171875 \nL 45.40625 9.625 \nQ 42.625 4.78125 38.28125 2.390625 \nQ 33.9375 0 27.875 0 \nQ 17.828125 0 11.671875 7.65625 \nQ 5.515625 15.328125 5.515625 27.984375 \nQ 5.515625 40.671875 11.671875 48.328125 \nQ 17.828125 56 27.875 56 \nQ 33.9375 56 38.28125 53.609375 \nQ 42.625 51.21875 45.40625 46.390625 \nL 45.40625 54.6875 \nL 54.390625 54.6875 \nz\n\" id=\"DejaVuSans-103\"/>\n       </defs>\n       <use xlink:href=\"#DejaVuSans-98\"/>\n       <use x=\"63.476562\" xlink:href=\"#DejaVuSans-105\"/>\n       <use x=\"91.259766\" xlink:href=\"#DejaVuSans-99\"/>\n       <use x=\"146.240234\" xlink:href=\"#DejaVuSans-121\"/>\n       <use x=\"205.419922\" xlink:href=\"#DejaVuSans-99\"/>\n       <use x=\"260.400391\" xlink:href=\"#DejaVuSans-108\"/>\n       <use x=\"288.183594\" xlink:href=\"#DejaVuSans-105\"/>\n       <use x=\"315.966797\" xlink:href=\"#DejaVuSans-110\"/>\n       <use x=\"379.345703\" xlink:href=\"#DejaVuSans-103\"/>\n      </g>\n     </g>\n    </g>\n    <g id=\"xtick_2\">\n     <g id=\"line2d_2\">\n      <g>\n       <use style=\"fill:#ffffff;stroke:#ffffff;stroke-width:0.8;\" x=\"194.672566\" xlink:href=\"#m07e6032703\" y=\"190.073198\"/>\n      </g>\n     </g>\n     <g id=\"text_2\">\n      <!-- walking -->\n      <g style=\"fill:#ffffff;\" transform=\"translate(175.503035 204.671635)scale(0.1 -0.1)\">\n       <defs>\n        <path d=\"M 4.203125 54.6875 \nL 13.1875 54.6875 \nL 24.421875 12.015625 \nL 35.59375 54.6875 \nL 46.1875 54.6875 \nL 57.421875 12.015625 \nL 68.609375 54.6875 \nL 77.59375 54.6875 \nL 63.28125 0 \nL 52.6875 0 \nL 40.921875 44.828125 \nL 29.109375 0 \nL 18.5 0 \nz\n\" id=\"DejaVuSans-119\"/>\n        <path d=\"M 34.28125 27.484375 \nQ 23.390625 27.484375 19.1875 25 \nQ 14.984375 22.515625 14.984375 16.5 \nQ 14.984375 11.71875 18.140625 8.90625 \nQ 21.296875 6.109375 26.703125 6.109375 \nQ 34.1875 6.109375 38.703125 11.40625 \nQ 43.21875 16.703125 43.21875 25.484375 \nL 43.21875 27.484375 \nz\nM 52.203125 31.203125 \nL 52.203125 0 \nL 43.21875 0 \nL 43.21875 8.296875 \nQ 40.140625 3.328125 35.546875 0.953125 \nQ 30.953125 -1.421875 24.3125 -1.421875 \nQ 15.921875 -1.421875 10.953125 3.296875 \nQ 6 8.015625 6 15.921875 \nQ 6 25.140625 12.171875 29.828125 \nQ 18.359375 34.515625 30.609375 34.515625 \nL 43.21875 34.515625 \nL 43.21875 35.40625 \nQ 43.21875 41.609375 39.140625 45 \nQ 35.0625 48.390625 27.6875 48.390625 \nQ 23 48.390625 18.546875 47.265625 \nQ 14.109375 46.140625 10.015625 43.890625 \nL 10.015625 52.203125 \nQ 14.9375 54.109375 19.578125 55.046875 \nQ 24.21875 56 28.609375 56 \nQ 40.484375 56 46.34375 49.84375 \nQ 52.203125 43.703125 52.203125 31.203125 \nz\n\" id=\"DejaVuSans-97\"/>\n        <path d=\"M 9.078125 75.984375 \nL 18.109375 75.984375 \nL 18.109375 31.109375 \nL 44.921875 54.6875 \nL 56.390625 54.6875 \nL 27.390625 29.109375 \nL 57.625 0 \nL 45.90625 0 \nL 18.109375 26.703125 \nL 18.109375 0 \nL 9.078125 0 \nz\n\" id=\"DejaVuSans-107\"/>\n       </defs>\n       <use xlink:href=\"#DejaVuSans-119\"/>\n       <use x=\"81.787109\" xlink:href=\"#DejaVuSans-97\"/>\n       <use x=\"143.066406\" xlink:href=\"#DejaVuSans-108\"/>\n       <use x=\"170.849609\" xlink:href=\"#DejaVuSans-107\"/>\n       <use x=\"228.759766\" xlink:href=\"#DejaVuSans-105\"/>\n       <use x=\"256.542969\" xlink:href=\"#DejaVuSans-110\"/>\n       <use x=\"319.921875\" xlink:href=\"#DejaVuSans-103\"/>\n      </g>\n     </g>\n    </g>\n    <g id=\"xtick_3\">\n     <g id=\"line2d_3\">\n      <g>\n       <use style=\"fill:#ffffff;stroke:#ffffff;stroke-width:0.8;\" x=\"282.608684\" xlink:href=\"#m07e6032703\" y=\"190.073198\"/>\n      </g>\n     </g>\n     <g id=\"text_3\">\n      <!-- transit -->\n      <g style=\"fill:#ffffff;\" transform=\"translate(266.40634 204.671635)scale(0.1 -0.1)\">\n       <defs>\n        <path d=\"M 18.3125 70.21875 \nL 18.3125 54.6875 \nL 36.8125 54.6875 \nL 36.8125 47.703125 \nL 18.3125 47.703125 \nL 18.3125 18.015625 \nQ 18.3125 11.328125 20.140625 9.421875 \nQ 21.96875 7.515625 27.59375 7.515625 \nL 36.8125 7.515625 \nL 36.8125 0 \nL 27.59375 0 \nQ 17.1875 0 13.234375 3.875 \nQ 9.28125 7.765625 9.28125 18.015625 \nL 9.28125 47.703125 \nL 2.6875 47.703125 \nL 2.6875 54.6875 \nL 9.28125 54.6875 \nL 9.28125 70.21875 \nz\n\" id=\"DejaVuSans-116\"/>\n        <path d=\"M 41.109375 46.296875 \nQ 39.59375 47.171875 37.8125 47.578125 \nQ 36.03125 48 33.890625 48 \nQ 26.265625 48 22.1875 43.046875 \nQ 18.109375 38.09375 18.109375 28.8125 \nL 18.109375 0 \nL 9.078125 0 \nL 9.078125 54.6875 \nL 18.109375 54.6875 \nL 18.109375 46.1875 \nQ 20.953125 51.171875 25.484375 53.578125 \nQ 30.03125 56 36.53125 56 \nQ 37.453125 56 38.578125 55.875 \nQ 39.703125 55.765625 41.0625 55.515625 \nz\n\" id=\"DejaVuSans-114\"/>\n        <path d=\"M 44.28125 53.078125 \nL 44.28125 44.578125 \nQ 40.484375 46.53125 36.375 47.5 \nQ 32.28125 48.484375 27.875 48.484375 \nQ 21.1875 48.484375 17.84375 46.4375 \nQ 14.5 44.390625 14.5 40.28125 \nQ 14.5 37.15625 16.890625 35.375 \nQ 19.28125 33.59375 26.515625 31.984375 \nL 29.59375 31.296875 \nQ 39.15625 29.25 43.1875 25.515625 \nQ 47.21875 21.78125 47.21875 15.09375 \nQ 47.21875 7.46875 41.1875 3.015625 \nQ 35.15625 -1.421875 24.609375 -1.421875 \nQ 20.21875 -1.421875 15.453125 -0.5625 \nQ 10.6875 0.296875 5.421875 2 \nL 5.421875 11.28125 \nQ 10.40625 8.6875 15.234375 7.390625 \nQ 20.0625 6.109375 24.8125 6.109375 \nQ 31.15625 6.109375 34.5625 8.28125 \nQ 37.984375 10.453125 37.984375 14.40625 \nQ 37.984375 18.0625 35.515625 20.015625 \nQ 33.0625 21.96875 24.703125 23.78125 \nL 21.578125 24.515625 \nQ 13.234375 26.265625 9.515625 29.90625 \nQ 5.8125 33.546875 5.8125 39.890625 \nQ 5.8125 47.609375 11.28125 51.796875 \nQ 16.75 56 26.8125 56 \nQ 31.78125 56 36.171875 55.265625 \nQ 40.578125 54.546875 44.28125 53.078125 \nz\n\" id=\"DejaVuSans-115\"/>\n       </defs>\n       <use xlink:href=\"#DejaVuSans-116\"/>\n       <use x=\"39.208984\" xlink:href=\"#DejaVuSans-114\"/>\n       <use x=\"80.322266\" xlink:href=\"#DejaVuSans-97\"/>\n       <use x=\"141.601562\" xlink:href=\"#DejaVuSans-110\"/>\n       <use x=\"204.980469\" xlink:href=\"#DejaVuSans-115\"/>\n       <use x=\"257.080078\" xlink:href=\"#DejaVuSans-105\"/>\n       <use x=\"284.863281\" xlink:href=\"#DejaVuSans-116\"/>\n      </g>\n     </g>\n    </g>\n    <g id=\"xtick_4\">\n     <g id=\"line2d_4\">\n      <g>\n       <use style=\"fill:#ffffff;stroke:#ffffff;stroke-width:0.8;\" x=\"370.544802\" xlink:href=\"#m07e6032703\" y=\"190.073198\"/>\n      </g>\n     </g>\n     <g id=\"text_4\">\n      <!-- driving -->\n      <g style=\"fill:#ffffff;\" transform=\"translate(353.234646 204.671635)scale(0.1 -0.1)\">\n       <defs>\n        <path d=\"M 45.40625 46.390625 \nL 45.40625 75.984375 \nL 54.390625 75.984375 \nL 54.390625 0 \nL 45.40625 0 \nL 45.40625 8.203125 \nQ 42.578125 3.328125 38.25 0.953125 \nQ 33.9375 -1.421875 27.875 -1.421875 \nQ 17.96875 -1.421875 11.734375 6.484375 \nQ 5.515625 14.40625 5.515625 27.296875 \nQ 5.515625 40.1875 11.734375 48.09375 \nQ 17.96875 56 27.875 56 \nQ 33.9375 56 38.25 53.625 \nQ 42.578125 51.265625 45.40625 46.390625 \nz\nM 14.796875 27.296875 \nQ 14.796875 17.390625 18.875 11.75 \nQ 22.953125 6.109375 30.078125 6.109375 \nQ 37.203125 6.109375 41.296875 11.75 \nQ 45.40625 17.390625 45.40625 27.296875 \nQ 45.40625 37.203125 41.296875 42.84375 \nQ 37.203125 48.484375 30.078125 48.484375 \nQ 22.953125 48.484375 18.875 42.84375 \nQ 14.796875 37.203125 14.796875 27.296875 \nz\n\" id=\"DejaVuSans-100\"/>\n        <path d=\"M 2.984375 54.6875 \nL 12.5 54.6875 \nL 29.59375 8.796875 \nL 46.6875 54.6875 \nL 56.203125 54.6875 \nL 35.6875 0 \nL 23.484375 0 \nz\n\" id=\"DejaVuSans-118\"/>\n       </defs>\n       <use xlink:href=\"#DejaVuSans-100\"/>\n       <use x=\"63.476562\" xlink:href=\"#DejaVuSans-114\"/>\n       <use x=\"104.589844\" xlink:href=\"#DejaVuSans-105\"/>\n       <use x=\"132.373047\" xlink:href=\"#DejaVuSans-118\"/>\n       <use x=\"191.552734\" xlink:href=\"#DejaVuSans-105\"/>\n       <use x=\"219.335938\" xlink:href=\"#DejaVuSans-110\"/>\n       <use x=\"282.714844\" xlink:href=\"#DejaVuSans-103\"/>\n      </g>\n     </g>\n    </g>\n   </g>\n   <g id=\"matplotlib.axis_2\">\n    <g id=\"ytick_1\">\n     <g id=\"line2d_5\">\n      <defs>\n       <path d=\"M 0 0 \nL -3.5 0 \n\" id=\"m5769c782ab\" style=\"stroke:#ffffff;stroke-width:0.8;\"/>\n      </defs>\n      <g>\n       <use style=\"fill:#ffffff;stroke:#ffffff;stroke-width:0.8;\" x=\"59.690625\" xlink:href=\"#m5769c782ab\" y=\"190.073198\"/>\n      </g>\n     </g>\n     <g id=\"text_5\">\n      <!-- 0 -->\n      <g style=\"fill:#ffffff;\" transform=\"translate(46.328125 193.872416)scale(0.1 -0.1)\">\n       <defs>\n        <path d=\"M 31.78125 66.40625 \nQ 24.171875 66.40625 20.328125 58.90625 \nQ 16.5 51.421875 16.5 36.375 \nQ 16.5 21.390625 20.328125 13.890625 \nQ 24.171875 6.390625 31.78125 6.390625 \nQ 39.453125 6.390625 43.28125 13.890625 \nQ 47.125 21.390625 47.125 36.375 \nQ 47.125 51.421875 43.28125 58.90625 \nQ 39.453125 66.40625 31.78125 66.40625 \nz\nM 31.78125 74.21875 \nQ 44.046875 74.21875 50.515625 64.515625 \nQ 56.984375 54.828125 56.984375 36.375 \nQ 56.984375 17.96875 50.515625 8.265625 \nQ 44.046875 -1.421875 31.78125 -1.421875 \nQ 19.53125 -1.421875 13.0625 8.265625 \nQ 6.59375 17.96875 6.59375 36.375 \nQ 6.59375 54.828125 13.0625 64.515625 \nQ 19.53125 74.21875 31.78125 74.21875 \nz\n\" id=\"DejaVuSans-48\"/>\n       </defs>\n       <use xlink:href=\"#DejaVuSans-48\"/>\n      </g>\n     </g>\n    </g>\n    <g id=\"ytick_2\">\n     <g id=\"line2d_6\">\n      <g>\n       <use style=\"fill:#ffffff;stroke:#ffffff;stroke-width:0.8;\" x=\"59.690625\" xlink:href=\"#m5769c782ab\" y=\"159.295556\"/>\n      </g>\n     </g>\n     <g id=\"text_6\">\n      <!-- 5000 -->\n      <g style=\"fill:#ffffff;\" transform=\"translate(27.240625 163.094775)scale(0.1 -0.1)\">\n       <defs>\n        <path d=\"M 10.796875 72.90625 \nL 49.515625 72.90625 \nL 49.515625 64.59375 \nL 19.828125 64.59375 \nL 19.828125 46.734375 \nQ 21.96875 47.46875 24.109375 47.828125 \nQ 26.265625 48.1875 28.421875 48.1875 \nQ 40.625 48.1875 47.75 41.5 \nQ 54.890625 34.8125 54.890625 23.390625 \nQ 54.890625 11.625 47.5625 5.09375 \nQ 40.234375 -1.421875 26.90625 -1.421875 \nQ 22.3125 -1.421875 17.546875 -0.640625 \nQ 12.796875 0.140625 7.71875 1.703125 \nL 7.71875 11.625 \nQ 12.109375 9.234375 16.796875 8.0625 \nQ 21.484375 6.890625 26.703125 6.890625 \nQ 35.15625 6.890625 40.078125 11.328125 \nQ 45.015625 15.765625 45.015625 23.390625 \nQ 45.015625 31 40.078125 35.4375 \nQ 35.15625 39.890625 26.703125 39.890625 \nQ 22.75 39.890625 18.8125 39.015625 \nQ 14.890625 38.140625 10.796875 36.28125 \nz\n\" id=\"DejaVuSans-53\"/>\n       </defs>\n       <use xlink:href=\"#DejaVuSans-53\"/>\n       <use x=\"63.623047\" xlink:href=\"#DejaVuSans-48\"/>\n       <use x=\"127.246094\" xlink:href=\"#DejaVuSans-48\"/>\n       <use x=\"190.869141\" xlink:href=\"#DejaVuSans-48\"/>\n      </g>\n     </g>\n    </g>\n    <g id=\"ytick_3\">\n     <g id=\"line2d_7\">\n      <g>\n       <use style=\"fill:#ffffff;stroke:#ffffff;stroke-width:0.8;\" x=\"59.690625\" xlink:href=\"#m5769c782ab\" y=\"128.517915\"/>\n      </g>\n     </g>\n     <g id=\"text_7\">\n      <!-- 10000 -->\n      <g style=\"fill:#ffffff;\" transform=\"translate(20.878125 132.317134)scale(0.1 -0.1)\">\n       <defs>\n        <path d=\"M 12.40625 8.296875 \nL 28.515625 8.296875 \nL 28.515625 63.921875 \nL 10.984375 60.40625 \nL 10.984375 69.390625 \nL 28.421875 72.90625 \nL 38.28125 72.90625 \nL 38.28125 8.296875 \nL 54.390625 8.296875 \nL 54.390625 0 \nL 12.40625 0 \nz\n\" id=\"DejaVuSans-49\"/>\n       </defs>\n       <use xlink:href=\"#DejaVuSans-49\"/>\n       <use x=\"63.623047\" xlink:href=\"#DejaVuSans-48\"/>\n       <use x=\"127.246094\" xlink:href=\"#DejaVuSans-48\"/>\n       <use x=\"190.869141\" xlink:href=\"#DejaVuSans-48\"/>\n       <use x=\"254.492188\" xlink:href=\"#DejaVuSans-48\"/>\n      </g>\n     </g>\n    </g>\n    <g id=\"ytick_4\">\n     <g id=\"line2d_8\">\n      <g>\n       <use style=\"fill:#ffffff;stroke:#ffffff;stroke-width:0.8;\" x=\"59.690625\" xlink:href=\"#m5769c782ab\" y=\"97.740274\"/>\n      </g>\n     </g>\n     <g id=\"text_8\">\n      <!-- 15000 -->\n      <g style=\"fill:#ffffff;\" transform=\"translate(20.878125 101.539493)scale(0.1 -0.1)\">\n       <use xlink:href=\"#DejaVuSans-49\"/>\n       <use x=\"63.623047\" xlink:href=\"#DejaVuSans-53\"/>\n       <use x=\"127.246094\" xlink:href=\"#DejaVuSans-48\"/>\n       <use x=\"190.869141\" xlink:href=\"#DejaVuSans-48\"/>\n       <use x=\"254.492188\" xlink:href=\"#DejaVuSans-48\"/>\n      </g>\n     </g>\n    </g>\n    <g id=\"ytick_5\">\n     <g id=\"line2d_9\">\n      <g>\n       <use style=\"fill:#ffffff;stroke:#ffffff;stroke-width:0.8;\" x=\"59.690625\" xlink:href=\"#m5769c782ab\" y=\"66.962633\"/>\n      </g>\n     </g>\n     <g id=\"text_9\">\n      <!-- 20000 -->\n      <g style=\"fill:#ffffff;\" transform=\"translate(20.878125 70.761851)scale(0.1 -0.1)\">\n       <defs>\n        <path d=\"M 19.1875 8.296875 \nL 53.609375 8.296875 \nL 53.609375 0 \nL 7.328125 0 \nL 7.328125 8.296875 \nQ 12.9375 14.109375 22.625 23.890625 \nQ 32.328125 33.6875 34.8125 36.53125 \nQ 39.546875 41.84375 41.421875 45.53125 \nQ 43.3125 49.21875 43.3125 52.78125 \nQ 43.3125 58.59375 39.234375 62.25 \nQ 35.15625 65.921875 28.609375 65.921875 \nQ 23.96875 65.921875 18.8125 64.3125 \nQ 13.671875 62.703125 7.8125 59.421875 \nL 7.8125 69.390625 \nQ 13.765625 71.78125 18.9375 73 \nQ 24.125 74.21875 28.421875 74.21875 \nQ 39.75 74.21875 46.484375 68.546875 \nQ 53.21875 62.890625 53.21875 53.421875 \nQ 53.21875 48.921875 51.53125 44.890625 \nQ 49.859375 40.875 45.40625 35.40625 \nQ 44.1875 33.984375 37.640625 27.21875 \nQ 31.109375 20.453125 19.1875 8.296875 \nz\n\" id=\"DejaVuSans-50\"/>\n       </defs>\n       <use xlink:href=\"#DejaVuSans-50\"/>\n       <use x=\"63.623047\" xlink:href=\"#DejaVuSans-48\"/>\n       <use x=\"127.246094\" xlink:href=\"#DejaVuSans-48\"/>\n       <use x=\"190.869141\" xlink:href=\"#DejaVuSans-48\"/>\n       <use x=\"254.492188\" xlink:href=\"#DejaVuSans-48\"/>\n      </g>\n     </g>\n    </g>\n    <g id=\"ytick_6\">\n     <g id=\"line2d_10\">\n      <g>\n       <use style=\"fill:#ffffff;stroke:#ffffff;stroke-width:0.8;\" x=\"59.690625\" xlink:href=\"#m5769c782ab\" y=\"36.184991\"/>\n      </g>\n     </g>\n     <g id=\"text_10\">\n      <!-- 25000 -->\n      <g style=\"fill:#ffffff;\" transform=\"translate(20.878125 39.98421)scale(0.1 -0.1)\">\n       <use xlink:href=\"#DejaVuSans-50\"/>\n       <use x=\"63.623047\" xlink:href=\"#DejaVuSans-53\"/>\n       <use x=\"127.246094\" xlink:href=\"#DejaVuSans-48\"/>\n       <use x=\"190.869141\" xlink:href=\"#DejaVuSans-48\"/>\n       <use x=\"254.492188\" xlink:href=\"#DejaVuSans-48\"/>\n      </g>\n     </g>\n    </g>\n    <g id=\"text_11\">\n     <!-- Students -->\n     <g style=\"fill:#ffffff;\" transform=\"translate(14.798438 128.483161)rotate(-90)scale(0.1 -0.1)\">\n      <defs>\n       <path d=\"M 53.515625 70.515625 \nL 53.515625 60.890625 \nQ 47.90625 63.578125 42.921875 64.890625 \nQ 37.9375 66.21875 33.296875 66.21875 \nQ 25.25 66.21875 20.875 63.09375 \nQ 16.5 59.96875 16.5 54.203125 \nQ 16.5 49.359375 19.40625 46.890625 \nQ 22.3125 44.4375 30.421875 42.921875 \nL 36.375 41.703125 \nQ 47.40625 39.59375 52.65625 34.296875 \nQ 57.90625 29 57.90625 20.125 \nQ 57.90625 9.515625 50.796875 4.046875 \nQ 43.703125 -1.421875 29.984375 -1.421875 \nQ 24.8125 -1.421875 18.96875 -0.25 \nQ 13.140625 0.921875 6.890625 3.21875 \nL 6.890625 13.375 \nQ 12.890625 10.015625 18.65625 8.296875 \nQ 24.421875 6.59375 29.984375 6.59375 \nQ 38.421875 6.59375 43.015625 9.90625 \nQ 47.609375 13.234375 47.609375 19.390625 \nQ 47.609375 24.75 44.3125 27.78125 \nQ 41.015625 30.8125 33.5 32.328125 \nL 27.484375 33.5 \nQ 16.453125 35.6875 11.515625 40.375 \nQ 6.59375 45.0625 6.59375 53.421875 \nQ 6.59375 63.09375 13.40625 68.65625 \nQ 20.21875 74.21875 32.171875 74.21875 \nQ 37.3125 74.21875 42.625 73.28125 \nQ 47.953125 72.359375 53.515625 70.515625 \nz\n\" id=\"DejaVuSans-83\"/>\n       <path d=\"M 8.5 21.578125 \nL 8.5 54.6875 \nL 17.484375 54.6875 \nL 17.484375 21.921875 \nQ 17.484375 14.15625 20.5 10.265625 \nQ 23.53125 6.390625 29.59375 6.390625 \nQ 36.859375 6.390625 41.078125 11.03125 \nQ 45.3125 15.671875 45.3125 23.6875 \nL 45.3125 54.6875 \nL 54.296875 54.6875 \nL 54.296875 0 \nL 45.3125 0 \nL 45.3125 8.40625 \nQ 42.046875 3.421875 37.71875 1 \nQ 33.40625 -1.421875 27.6875 -1.421875 \nQ 18.265625 -1.421875 13.375 4.4375 \nQ 8.5 10.296875 8.5 21.578125 \nz\nM 31.109375 56 \nz\n\" id=\"DejaVuSans-117\"/>\n       <path d=\"M 56.203125 29.59375 \nL 56.203125 25.203125 \nL 14.890625 25.203125 \nQ 15.484375 15.921875 20.484375 11.0625 \nQ 25.484375 6.203125 34.421875 6.203125 \nQ 39.59375 6.203125 44.453125 7.46875 \nQ 49.3125 8.734375 54.109375 11.28125 \nL 54.109375 2.78125 \nQ 49.265625 0.734375 44.1875 -0.34375 \nQ 39.109375 -1.421875 33.890625 -1.421875 \nQ 20.796875 -1.421875 13.15625 6.1875 \nQ 5.515625 13.8125 5.515625 26.8125 \nQ 5.515625 40.234375 12.765625 48.109375 \nQ 20.015625 56 32.328125 56 \nQ 43.359375 56 49.78125 48.890625 \nQ 56.203125 41.796875 56.203125 29.59375 \nz\nM 47.21875 32.234375 \nQ 47.125 39.59375 43.09375 43.984375 \nQ 39.0625 48.390625 32.421875 48.390625 \nQ 24.90625 48.390625 20.390625 44.140625 \nQ 15.875 39.890625 15.1875 32.171875 \nz\n\" id=\"DejaVuSans-101\"/>\n      </defs>\n      <use xlink:href=\"#DejaVuSans-83\"/>\n      <use x=\"63.476562\" xlink:href=\"#DejaVuSans-116\"/>\n      <use x=\"102.685547\" xlink:href=\"#DejaVuSans-117\"/>\n      <use x=\"166.064453\" xlink:href=\"#DejaVuSans-100\"/>\n      <use x=\"229.541016\" xlink:href=\"#DejaVuSans-101\"/>\n      <use x=\"291.064453\" xlink:href=\"#DejaVuSans-110\"/>\n      <use x=\"354.443359\" xlink:href=\"#DejaVuSans-116\"/>\n      <use x=\"393.652344\" xlink:href=\"#DejaVuSans-115\"/>\n     </g>\n    </g>\n   </g>\n   <g id=\"patch_11\">\n    <path d=\"M 59.690625 190.073198 \nL 59.690625 22.318125 \n\" style=\"fill:none;stroke:#ffffff;stroke-linecap:square;stroke-linejoin:miter;stroke-width:0.8;\"/>\n   </g>\n   <g id=\"patch_12\">\n    <path d=\"M 417.590625 190.073198 \nL 417.590625 22.318125 \n\" style=\"fill:none;stroke:#ffffff;stroke-linecap:square;stroke-linejoin:miter;stroke-width:0.8;\"/>\n   </g>\n   <g id=\"patch_13\">\n    <path d=\"M 59.690625 190.073198 \nL 417.590625 190.073198 \n\" style=\"fill:none;stroke:#ffffff;stroke-linecap:square;stroke-linejoin:miter;stroke-width:0.8;\"/>\n   </g>\n   <g id=\"patch_14\">\n    <path d=\"M 59.690625 22.318125 \nL 417.590625 22.318125 \n\" style=\"fill:none;stroke:#ffffff;stroke-linecap:square;stroke-linejoin:miter;stroke-width:0.8;\"/>\n   </g>\n   <g id=\"text_12\">\n    <!-- Distribution of closest station from faculties -->\n    <g style=\"fill:#ffffff;\" transform=\"translate(107.386875 16.318125)scale(0.12 -0.12)\">\n     <defs>\n      <path d=\"M 19.671875 64.796875 \nL 19.671875 8.109375 \nL 31.59375 8.109375 \nQ 46.6875 8.109375 53.6875 14.9375 \nQ 60.6875 21.78125 60.6875 36.53125 \nQ 60.6875 51.171875 53.6875 57.984375 \nQ 46.6875 64.796875 31.59375 64.796875 \nz\nM 9.8125 72.90625 \nL 30.078125 72.90625 \nQ 51.265625 72.90625 61.171875 64.09375 \nQ 71.09375 55.28125 71.09375 36.53125 \nQ 71.09375 17.671875 61.125 8.828125 \nQ 51.171875 0 30.078125 0 \nL 9.8125 0 \nz\n\" id=\"DejaVuSans-68\"/>\n      <path d=\"M 30.609375 48.390625 \nQ 23.390625 48.390625 19.1875 42.75 \nQ 14.984375 37.109375 14.984375 27.296875 \nQ 14.984375 17.484375 19.15625 11.84375 \nQ 23.34375 6.203125 30.609375 6.203125 \nQ 37.796875 6.203125 41.984375 11.859375 \nQ 46.1875 17.53125 46.1875 27.296875 \nQ 46.1875 37.015625 41.984375 42.703125 \nQ 37.796875 48.390625 30.609375 48.390625 \nz\nM 30.609375 56 \nQ 42.328125 56 49.015625 48.375 \nQ 55.71875 40.765625 55.71875 27.296875 \nQ 55.71875 13.875 49.015625 6.21875 \nQ 42.328125 -1.421875 30.609375 -1.421875 \nQ 18.84375 -1.421875 12.171875 6.21875 \nQ 5.515625 13.875 5.515625 27.296875 \nQ 5.515625 40.765625 12.171875 48.375 \nQ 18.84375 56 30.609375 56 \nz\n\" id=\"DejaVuSans-111\"/>\n      <path id=\"DejaVuSans-32\"/>\n      <path d=\"M 37.109375 75.984375 \nL 37.109375 68.5 \nL 28.515625 68.5 \nQ 23.6875 68.5 21.796875 66.546875 \nQ 19.921875 64.59375 19.921875 59.515625 \nL 19.921875 54.6875 \nL 34.71875 54.6875 \nL 34.71875 47.703125 \nL 19.921875 47.703125 \nL 19.921875 0 \nL 10.890625 0 \nL 10.890625 47.703125 \nL 2.296875 47.703125 \nL 2.296875 54.6875 \nL 10.890625 54.6875 \nL 10.890625 58.5 \nQ 10.890625 67.625 15.140625 71.796875 \nQ 19.390625 75.984375 28.609375 75.984375 \nz\n\" id=\"DejaVuSans-102\"/>\n      <path d=\"M 52 44.1875 \nQ 55.375 50.25 60.0625 53.125 \nQ 64.75 56 71.09375 56 \nQ 79.640625 56 84.28125 50.015625 \nQ 88.921875 44.046875 88.921875 33.015625 \nL 88.921875 0 \nL 79.890625 0 \nL 79.890625 32.71875 \nQ 79.890625 40.578125 77.09375 44.375 \nQ 74.3125 48.1875 68.609375 48.1875 \nQ 61.625 48.1875 57.5625 43.546875 \nQ 53.515625 38.921875 53.515625 30.90625 \nL 53.515625 0 \nL 44.484375 0 \nL 44.484375 32.71875 \nQ 44.484375 40.625 41.703125 44.40625 \nQ 38.921875 48.1875 33.109375 48.1875 \nQ 26.21875 48.1875 22.15625 43.53125 \nQ 18.109375 38.875 18.109375 30.90625 \nL 18.109375 0 \nL 9.078125 0 \nL 9.078125 54.6875 \nL 18.109375 54.6875 \nL 18.109375 46.1875 \nQ 21.1875 51.21875 25.484375 53.609375 \nQ 29.78125 56 35.6875 56 \nQ 41.65625 56 45.828125 52.96875 \nQ 50 49.953125 52 44.1875 \nz\n\" id=\"DejaVuSans-109\"/>\n     </defs>\n     <use xlink:href=\"#DejaVuSans-68\"/>\n     <use x=\"77.001953\" xlink:href=\"#DejaVuSans-105\"/>\n     <use x=\"104.785156\" xlink:href=\"#DejaVuSans-115\"/>\n     <use x=\"156.884766\" xlink:href=\"#DejaVuSans-116\"/>\n     <use x=\"196.09375\" xlink:href=\"#DejaVuSans-114\"/>\n     <use x=\"237.207031\" xlink:href=\"#DejaVuSans-105\"/>\n     <use x=\"264.990234\" xlink:href=\"#DejaVuSans-98\"/>\n     <use x=\"328.466797\" xlink:href=\"#DejaVuSans-117\"/>\n     <use x=\"391.845703\" xlink:href=\"#DejaVuSans-116\"/>\n     <use x=\"431.054688\" xlink:href=\"#DejaVuSans-105\"/>\n     <use x=\"458.837891\" xlink:href=\"#DejaVuSans-111\"/>\n     <use x=\"520.019531\" xlink:href=\"#DejaVuSans-110\"/>\n     <use x=\"583.398438\" xlink:href=\"#DejaVuSans-32\"/>\n     <use x=\"615.185547\" xlink:href=\"#DejaVuSans-111\"/>\n     <use x=\"676.367188\" xlink:href=\"#DejaVuSans-102\"/>\n     <use x=\"711.572266\" xlink:href=\"#DejaVuSans-32\"/>\n     <use x=\"743.359375\" xlink:href=\"#DejaVuSans-99\"/>\n     <use x=\"798.339844\" xlink:href=\"#DejaVuSans-108\"/>\n     <use x=\"826.123047\" xlink:href=\"#DejaVuSans-111\"/>\n     <use x=\"887.304688\" xlink:href=\"#DejaVuSans-115\"/>\n     <use x=\"939.404297\" xlink:href=\"#DejaVuSans-101\"/>\n     <use x=\"1000.927734\" xlink:href=\"#DejaVuSans-115\"/>\n     <use x=\"1053.027344\" xlink:href=\"#DejaVuSans-116\"/>\n     <use x=\"1092.236328\" xlink:href=\"#DejaVuSans-32\"/>\n     <use x=\"1124.023438\" xlink:href=\"#DejaVuSans-115\"/>\n     <use x=\"1176.123047\" xlink:href=\"#DejaVuSans-116\"/>\n     <use x=\"1215.332031\" xlink:href=\"#DejaVuSans-97\"/>\n     <use x=\"1276.611328\" xlink:href=\"#DejaVuSans-116\"/>\n     <use x=\"1315.820312\" xlink:href=\"#DejaVuSans-105\"/>\n     <use x=\"1343.603516\" xlink:href=\"#DejaVuSans-111\"/>\n     <use x=\"1404.785156\" xlink:href=\"#DejaVuSans-110\"/>\n     <use x=\"1468.164062\" xlink:href=\"#DejaVuSans-32\"/>\n     <use x=\"1499.951172\" xlink:href=\"#DejaVuSans-102\"/>\n     <use x=\"1535.15625\" xlink:href=\"#DejaVuSans-114\"/>\n     <use x=\"1574.019531\" xlink:href=\"#DejaVuSans-111\"/>\n     <use x=\"1635.201172\" xlink:href=\"#DejaVuSans-109\"/>\n     <use x=\"1732.613281\" xlink:href=\"#DejaVuSans-32\"/>\n     <use x=\"1764.400391\" xlink:href=\"#DejaVuSans-102\"/>\n     <use x=\"1799.605469\" xlink:href=\"#DejaVuSans-97\"/>\n     <use x=\"1860.884766\" xlink:href=\"#DejaVuSans-99\"/>\n     <use x=\"1915.865234\" xlink:href=\"#DejaVuSans-117\"/>\n     <use x=\"1979.244141\" xlink:href=\"#DejaVuSans-108\"/>\n     <use x=\"2007.027344\" xlink:href=\"#DejaVuSans-116\"/>\n     <use x=\"2046.236328\" xlink:href=\"#DejaVuSans-105\"/>\n     <use x=\"2074.019531\" xlink:href=\"#DejaVuSans-101\"/>\n     <use x=\"2135.542969\" xlink:href=\"#DejaVuSans-115\"/>\n    </g>\n   </g>\n   <g id=\"legend_1\">\n    <g id=\"patch_15\">\n     <path d=\"M 66.690625 59.674375 \nL 166.5125 59.674375 \nQ 168.5125 59.674375 168.5125 57.674375 \nL 168.5125 29.318125 \nQ 168.5125 27.318125 166.5125 27.318125 \nL 66.690625 27.318125 \nQ 64.690625 27.318125 64.690625 29.318125 \nL 64.690625 57.674375 \nQ 64.690625 59.674375 66.690625 59.674375 \nz\n\" style=\"fill:#ffffff;opacity:0.8;stroke:#cccccc;stroke-linejoin:miter;\"/>\n    </g>\n    <g id=\"patch_16\">\n     <path d=\"M 68.690625 38.916562 \nL 88.690625 38.916562 \nL 88.690625 31.916562 \nL 68.690625 31.916562 \nz\n\" style=\"fill:#3bb2d0;\"/>\n    </g>\n    <g id=\"text_13\">\n     <!-- Delft Campus -->\n     <g transform=\"translate(96.690625 38.916562)scale(0.1 -0.1)\">\n      <defs>\n       <path d=\"M 64.40625 67.28125 \nL 64.40625 56.890625 \nQ 59.421875 61.53125 53.78125 63.8125 \nQ 48.140625 66.109375 41.796875 66.109375 \nQ 29.296875 66.109375 22.65625 58.46875 \nQ 16.015625 50.828125 16.015625 36.375 \nQ 16.015625 21.96875 22.65625 14.328125 \nQ 29.296875 6.6875 41.796875 6.6875 \nQ 48.140625 6.6875 53.78125 8.984375 \nQ 59.421875 11.28125 64.40625 15.921875 \nL 64.40625 5.609375 \nQ 59.234375 2.09375 53.4375 0.328125 \nQ 47.65625 -1.421875 41.21875 -1.421875 \nQ 24.65625 -1.421875 15.125 8.703125 \nQ 5.609375 18.84375 5.609375 36.375 \nQ 5.609375 53.953125 15.125 64.078125 \nQ 24.65625 74.21875 41.21875 74.21875 \nQ 47.75 74.21875 53.53125 72.484375 \nQ 59.328125 70.75 64.40625 67.28125 \nz\n\" id=\"DejaVuSans-67\"/>\n       <path d=\"M 18.109375 8.203125 \nL 18.109375 -20.796875 \nL 9.078125 -20.796875 \nL 9.078125 54.6875 \nL 18.109375 54.6875 \nL 18.109375 46.390625 \nQ 20.953125 51.265625 25.265625 53.625 \nQ 29.59375 56 35.59375 56 \nQ 45.5625 56 51.78125 48.09375 \nQ 58.015625 40.1875 58.015625 27.296875 \nQ 58.015625 14.40625 51.78125 6.484375 \nQ 45.5625 -1.421875 35.59375 -1.421875 \nQ 29.59375 -1.421875 25.265625 0.953125 \nQ 20.953125 3.328125 18.109375 8.203125 \nz\nM 48.6875 27.296875 \nQ 48.6875 37.203125 44.609375 42.84375 \nQ 40.53125 48.484375 33.40625 48.484375 \nQ 26.265625 48.484375 22.1875 42.84375 \nQ 18.109375 37.203125 18.109375 27.296875 \nQ 18.109375 17.390625 22.1875 11.75 \nQ 26.265625 6.109375 33.40625 6.109375 \nQ 40.53125 6.109375 44.609375 11.75 \nQ 48.6875 17.390625 48.6875 27.296875 \nz\n\" id=\"DejaVuSans-112\"/>\n      </defs>\n      <use xlink:href=\"#DejaVuSans-68\"/>\n      <use x=\"77.001953\" xlink:href=\"#DejaVuSans-101\"/>\n      <use x=\"138.525391\" xlink:href=\"#DejaVuSans-108\"/>\n      <use x=\"166.308594\" xlink:href=\"#DejaVuSans-102\"/>\n      <use x=\"199.763672\" xlink:href=\"#DejaVuSans-116\"/>\n      <use x=\"238.972656\" xlink:href=\"#DejaVuSans-32\"/>\n      <use x=\"270.759766\" xlink:href=\"#DejaVuSans-67\"/>\n      <use x=\"340.583984\" xlink:href=\"#DejaVuSans-97\"/>\n      <use x=\"401.863281\" xlink:href=\"#DejaVuSans-109\"/>\n      <use x=\"499.275391\" xlink:href=\"#DejaVuSans-112\"/>\n      <use x=\"562.751953\" xlink:href=\"#DejaVuSans-117\"/>\n      <use x=\"626.130859\" xlink:href=\"#DejaVuSans-115\"/>\n     </g>\n    </g>\n    <g id=\"patch_17\">\n     <path d=\"M 68.690625 53.594687 \nL 88.690625 53.594687 \nL 88.690625 46.594687 \nL 68.690625 46.594687 \nz\n\" style=\"fill:#e55e5e;\"/>\n    </g>\n    <g id=\"text_14\">\n     <!-- Station Delft -->\n     <g transform=\"translate(96.690625 53.594687)scale(0.1 -0.1)\">\n      <use xlink:href=\"#DejaVuSans-83\"/>\n      <use x=\"63.476562\" xlink:href=\"#DejaVuSans-116\"/>\n      <use x=\"102.685547\" xlink:href=\"#DejaVuSans-97\"/>\n      <use x=\"163.964844\" xlink:href=\"#DejaVuSans-116\"/>\n      <use x=\"203.173828\" xlink:href=\"#DejaVuSans-105\"/>\n      <use x=\"230.957031\" xlink:href=\"#DejaVuSans-111\"/>\n      <use x=\"292.138672\" xlink:href=\"#DejaVuSans-110\"/>\n      <use x=\"355.517578\" xlink:href=\"#DejaVuSans-32\"/>\n      <use x=\"387.304688\" xlink:href=\"#DejaVuSans-68\"/>\n      <use x=\"464.306641\" xlink:href=\"#DejaVuSans-101\"/>\n      <use x=\"525.830078\" xlink:href=\"#DejaVuSans-108\"/>\n      <use x=\"553.613281\" xlink:href=\"#DejaVuSans-102\"/>\n      <use x=\"587.068359\" xlink:href=\"#DejaVuSans-116\"/>\n     </g>\n    </g>\n   </g>\n  </g>\n </g>\n <defs>\n  <clipPath id=\"p2761b67b82\">\n   <rect height=\"167.755073\" width=\"357.9\" x=\"59.690625\" y=\"22.318125\"/>\n  </clipPath>\n </defs>\n</svg>\n",
      "image/png": "[encoded data removed]"
     },
     "metadata": {
      "needs_background": "dark"
     }
    }
   ],
   "source": [
    "labels = modes\n",
    "X = [i for i in range(len(fac_dis))]\n",
    "width = 0.35\n",
    "\n",
    "fig, ax = plt.subplots()\n",
    "dc_rects = ax.bar(\n",
    "    [x - width/2 for x in X],\n",
    "    [fac_dis[label][\"DC\"] for label in labels],\n",
    "    width, \n",
    "    color = '#3BB2D0',\n",
    "    label=\"Delft Campus\"\n",
    ")\n",
    "dc_rects = ax.bar(\n",
    "    [x + width/2 for x in X],\n",
    "    [fac_dis[label][\"SD\"] for label in labels],\n",
    "    width,\n",
    "    color = \"#E55E5E\",\n",
    "    label=\"Station Delft\"\n",
    ")\n",
    "\n",
    "ax.set_ylabel(\"Students\")\n",
    "ax.set_title(\"Distribution of closest station from faculties\")\n",
    "ax.set_xticks(X)\n",
    "ax.set_xticklabels(labels)\n",
    "ax.legend()\n",
    "ax.set_aspect(0.00007)\n",
    "fig.tight_layout()\n",
    "# ax.spines['bottom'].set_color('w')\n",
    "# ax.spines['top'].set_color('w') \n",
    "# ax.spines['right'].set_color('w')\n",
    "# ax.spines['left'].set_color('w')\n",
    "# ax.tick_params(axis='x', colors='w')\n",
    "# ax.tick_params(axis='y', colors='w')\n",
    "# ax.yaxis.label.set_color('w')\n",
    "# ax.xaxis.label.set_color('w')\n",
    "# ax.title.set_color('w')\n",
    "fig.savefig(\"mpl_faculties.png\", dpi=300, transparent=True)"
   ]
  },
  {
   "source": [
    "## Interactive plots with `gmaps`."
   ],
   "cell_type": "markdown",
   "metadata": {}
  },
  {
   "cell_type": "code",
   "execution_count": null,
   "metadata": {},
   "outputs": [],
   "source": [
    "# Gmaps plotting\n",
    "\n",
    "import gmaps\n",
    "from IPython.display import display\n",
    "import ipywidgets as widgets\n",
    "from ipywidgets.embed import embed_minimal_html\n",
    "\n",
    "with open(\"api_key\", \"r\") as file:\n",
    "    api_key = file.read()\n",
    "gmaps.configure(api_key=api_key)\n",
    "\n",
    "def get_circle(loc, radius, **kwargs):\n",
    "    loc.plot = gmaps.Circle(\n",
    "        radius=radius,\n",
    "        center=(loc.lat, loc.lng),\n",
    "        **kwargs\n",
    "    )\n",
    "    return loc.plot\n",
    "\n",
    "def get_colored_circle(*args, color, fill_opacity=0.1, stroke_opacity=1, **kwargs):\n",
    "    return get_circle(\n",
    "        *args,\n",
    "        fill_color=color,\n",
    "        fill_opacity=fill_opacity,\n",
    "        stroke_color=color,\n",
    "        stroke_opacity=stroke_opacity\n",
    "    )\n",
    "\n",
    "def get_faculty_cicles(faculties, norm=20, **kwargs):\n",
    "    objs = []\n",
    "    for faculty in faculties.values():\n",
    "        radius = faculty.students/norm\n",
    "        if faculty.closest:\n",
    "            objs.append(get_colored_circle(faculty, radius, color=faculty.closest.color))\n",
    "        else:\n",
    "            objs.append(get_circle(faculty, radius))\n",
    "    return objs\n",
    "\n",
    "def map_style(fig):\n",
    "    with open(\"silver.json\", \"r\") as file:\n",
    "        style = file.read()\n",
    "    fig.styles = style\n",
    "        \n",
    "def add_layer(fig, features):\n",
    "    fig.add_layer(gmaps.drawing_layer(features=features, show_controls=False))"
   ]
  },
  {
   "cell_type": "code",
   "execution_count": null,
   "metadata": {},
   "outputs": [],
   "source": [
    "# Tu Polygons\n",
    "\n",
    "TU_polygons = [gmaps.Polygon(cd, fill_color=(0,166,214), stroke_color=(0,166,214), fill_opacity=0.1) for cd in TU_coordinates]\n",
    "NS_circles = [get_colored_circle(station, 50, color=station.color, fill_opacity=1) for station in stations.values()]\n",
    "\n",
    "fig = gmaps.figure(center=(51.998487, 4.374864), zoom_level=15)\n",
    "map_style(fig)\n",
    "add_layer(fig, TU_polygons)\n",
    "add_layer(fig, NS_circles)\n",
    "embed_minimal_html('export/base_map.html', views=[fig])\n",
    "fig"
   ]
  },
  {
   "cell_type": "code",
   "execution_count": null,
   "metadata": {},
   "outputs": [],
   "source": [
    "# Search points\n",
    "\n",
    "search_symbols = gmaps.symbol_layer(search_pts, fill_color=(255, 209, 102), stroke_color=(255, 209, 102), scale=1)\n",
    "\n",
    "fig = gmaps.figure(center=(51.998487, 4.374864), zoom_level=15)\n",
    "map_style(fig)\n",
    "add_layer(fig, TU_polygons)\n",
    "add_layer(fig, NS_circles)\n",
    "fig.add_layer(search_symbols)\n",
    "fig"
   ]
  },
  {
   "cell_type": "code",
   "execution_count": null,
   "metadata": {},
   "outputs": [],
   "source": [
    "# Plot points with closest station\n",
    "\n",
    "sd_symbols = gmaps.symbol_layer(sd_locs, fill_color=stations[\"SD\"].color, stroke_color=stations[\"SD\"].color, scale=1)\n",
    "dc_symbols = gmaps.symbol_layer(dc_locs, fill_color=stations[\"DC\"].color, stroke_color=stations[\"DC\"].color, scale=1)\n",
    "\n",
    "fig = gmaps.figure(center=(51.998487, 4.374864), zoom_level=15)\n",
    "map_style(fig)\n",
    "add_layer(fig, TU_polygons)\n",
    "add_layer(fig, NS_circles)\n",
    "fig.add_layer(sd_symbols)\n",
    "fig.add_layer(dc_symbols)\n",
    "\n",
    "fig"
   ]
  },
  {
   "cell_type": "code",
   "execution_count": null,
   "metadata": {},
   "outputs": [],
   "source": [
    "# Plot departments\n",
    "\n",
    "fig = gmaps.figure(center=(51.998487, 4.374864), zoom_level=15)\n",
    "map_style(fig)\n",
    "add_layer(fig, TU_polygons)\n",
    "add_layer(fig, NS_circles)\n",
    "add_layer(fig, get_faculty_cicles(faculties))\n",
    "fig"
   ]
  },
  {
   "cell_type": "code",
   "execution_count": null,
   "metadata": {},
   "outputs": [],
   "source": [
    "# Plot departments with colors\n",
    "\n",
    "fig2 = gmaps.figure(center=(51.998487, 4.374864), zoom_level=15)\n",
    "map_style(fig2)\n",
    "add_layer(fig2, TU_polygons)\n",
    "add_layer(fig2, NS_circles)\n",
    "add_layer(fig2, get_faculty_cicles(faculties))\n",
    "fig2"
   ]
  }
 ]
}